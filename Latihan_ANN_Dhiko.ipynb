{
  "nbformat": 4,
  "nbformat_minor": 0,
  "metadata": {
    "kernelspec": {
      "display_name": "Python 3",
      "language": "python",
      "name": "python3"
    },
    "language_info": {
      "codemirror_mode": {
        "name": "ipython",
        "version": 3
      },
      "file_extension": ".py",
      "mimetype": "text/x-python",
      "name": "python",
      "nbconvert_exporter": "python",
      "pygments_lexer": "ipython3",
      "version": "3.7.6"
    },
    "colab": {
      "name": "Latihan ANN Dhiko.ipynb",
      "provenance": [],
      "collapsed_sections": []
    }
  },
  "cells": [
    {
      "cell_type": "markdown",
      "metadata": {
        "id": "fXyErK3La9VY"
      },
      "source": [
        "## Import Library yg dibutuhkan"
      ]
    },
    {
      "cell_type": "code",
      "metadata": {
        "id": "o-sY0DCpa9Vi"
      },
      "source": [
        "import pandas as pd\n",
        "import matplotlib.pyplot as plt\n",
        "import numpy as np \n",
        "import warnings \n",
        "from sklearn import metrics \n",
        "import seaborn as sns\n",
        "from collections import Counter\n",
        "warnings.filterwarnings(\"ignore\")\n",
        "%matplotlib inline\n",
        "\n",
        "#tambahkan library sesuai kebutuhan"
      ],
      "execution_count": null,
      "outputs": []
    },
    {
      "cell_type": "code",
      "metadata": {
        "id": "QeexgbVDWjH0"
      },
      "source": [
        "url = 'https://raw.githubusercontent.com/FerdiErs/Test1/main/data.csv'\n",
        "\n",
        "data = pd.read_csv(url)"
      ],
      "execution_count": null,
      "outputs": []
    },
    {
      "cell_type": "code",
      "metadata": {
        "id": "mdVVIvqIa9Vm",
        "colab": {
          "base_uri": "https://localhost:8080/",
          "height": 204
        },
        "outputId": "3e2cd014-77dd-4cea-e380-d7201fbdf239"
      },
      "source": [
        "data.head()"
      ],
      "execution_count": null,
      "outputs": [
        {
          "output_type": "execute_result",
          "data": {
            "text/html": [
              "<div>\n",
              "<style scoped>\n",
              "    .dataframe tbody tr th:only-of-type {\n",
              "        vertical-align: middle;\n",
              "    }\n",
              "\n",
              "    .dataframe tbody tr th {\n",
              "        vertical-align: top;\n",
              "    }\n",
              "\n",
              "    .dataframe thead th {\n",
              "        text-align: right;\n",
              "    }\n",
              "</style>\n",
              "<table border=\"1\" class=\"dataframe\">\n",
              "  <thead>\n",
              "    <tr style=\"text-align: right;\">\n",
              "      <th></th>\n",
              "      <th>PH</th>\n",
              "      <th>cahaya</th>\n",
              "      <th>intensitas air</th>\n",
              "      <th>suhu</th>\n",
              "      <th>PPM</th>\n",
              "      <th>tinggi air</th>\n",
              "      <th>aksi</th>\n",
              "    </tr>\n",
              "  </thead>\n",
              "  <tbody>\n",
              "    <tr>\n",
              "      <th>0</th>\n",
              "      <td>6.5</td>\n",
              "      <td>Ada</td>\n",
              "      <td>Tinggi</td>\n",
              "      <td>27.0</td>\n",
              "      <td>188.0</td>\n",
              "      <td>622</td>\n",
              "      <td>Hidupkan Lampu dan Pompa nutrisi TDS</td>\n",
              "    </tr>\n",
              "    <tr>\n",
              "      <th>1</th>\n",
              "      <td>5.7</td>\n",
              "      <td>Ada</td>\n",
              "      <td>Tinggi</td>\n",
              "      <td>26.9</td>\n",
              "      <td>79.0</td>\n",
              "      <td>557</td>\n",
              "      <td>Hidupkan Lampu dan Pompa nutrisi TDS</td>\n",
              "    </tr>\n",
              "    <tr>\n",
              "      <th>2</th>\n",
              "      <td>6.0</td>\n",
              "      <td>Ada</td>\n",
              "      <td>Tinggi</td>\n",
              "      <td>27.0</td>\n",
              "      <td>11.0</td>\n",
              "      <td>491</td>\n",
              "      <td>Hidupkan Lampu dan Pompa nutrisi TDS</td>\n",
              "    </tr>\n",
              "    <tr>\n",
              "      <th>3</th>\n",
              "      <td>6.5</td>\n",
              "      <td>Ada</td>\n",
              "      <td>Tinggi</td>\n",
              "      <td>27.1</td>\n",
              "      <td>345.0</td>\n",
              "      <td>12000</td>\n",
              "      <td>Tidak melakukan apa-apa</td>\n",
              "    </tr>\n",
              "    <tr>\n",
              "      <th>4</th>\n",
              "      <td>6.2</td>\n",
              "      <td>NaN</td>\n",
              "      <td>Tinggi</td>\n",
              "      <td>27.1</td>\n",
              "      <td>602.0</td>\n",
              "      <td>444</td>\n",
              "      <td>Tidak melakukan apa-apa</td>\n",
              "    </tr>\n",
              "  </tbody>\n",
              "</table>\n",
              "</div>"
            ],
            "text/plain": [
              "    PH cahaya  ... tinggi air                                  aksi\n",
              "0  6.5    Ada  ...        622  Hidupkan Lampu dan Pompa nutrisi TDS\n",
              "1  5.7    Ada  ...        557  Hidupkan Lampu dan Pompa nutrisi TDS\n",
              "2  6.0    Ada  ...        491  Hidupkan Lampu dan Pompa nutrisi TDS\n",
              "3  6.5    Ada  ...      12000               Tidak melakukan apa-apa\n",
              "4  6.2    NaN  ...        444               Tidak melakukan apa-apa\n",
              "\n",
              "[5 rows x 7 columns]"
            ]
          },
          "metadata": {},
          "execution_count": 3
        }
      ]
    },
    {
      "cell_type": "code",
      "metadata": {
        "colab": {
          "base_uri": "https://localhost:8080/"
        },
        "id": "wlJwQxxhEw5m",
        "outputId": "c9ad9062-954e-4b2e-86d9-b4e5fbd5e283"
      },
      "source": [
        "data.info()"
      ],
      "execution_count": null,
      "outputs": [
        {
          "output_type": "stream",
          "name": "stdout",
          "text": [
            "<class 'pandas.core.frame.DataFrame'>\n",
            "RangeIndex: 616 entries, 0 to 615\n",
            "Data columns (total 7 columns):\n",
            " #   Column          Non-Null Count  Dtype  \n",
            "---  ------          --------------  -----  \n",
            " 0   PH              600 non-null    float64\n",
            " 1   cahaya          590 non-null    object \n",
            " 2   intensitas air  616 non-null    object \n",
            " 3   suhu            589 non-null    float64\n",
            " 4   PPM             611 non-null    float64\n",
            " 5   tinggi air      616 non-null    int64  \n",
            " 6   aksi            616 non-null    object \n",
            "dtypes: float64(3), int64(1), object(3)\n",
            "memory usage: 33.8+ KB\n"
          ]
        }
      ]
    },
    {
      "cell_type": "markdown",
      "metadata": {
        "id": "WZ3GE8pya9Vr"
      },
      "source": [
        "## 1. Mengganti nama kolom yang menggunakan spasi"
      ]
    },
    {
      "cell_type": "code",
      "metadata": {
        "id": "v0csWHwRa9Vs",
        "colab": {
          "base_uri": "https://localhost:8080/",
          "height": 419
        },
        "outputId": "54a19154-9ee9-414d-e8fa-e13e9148ff6d"
      },
      "source": [
        "#isi code\n",
        "data.rename(columns={'intensitas air': 'intensitas_air', 'tinggi air' : 'tinggi_air'},inplace= True)\n",
        "data"
      ],
      "execution_count": null,
      "outputs": [
        {
          "output_type": "execute_result",
          "data": {
            "text/html": [
              "<div>\n",
              "<style scoped>\n",
              "    .dataframe tbody tr th:only-of-type {\n",
              "        vertical-align: middle;\n",
              "    }\n",
              "\n",
              "    .dataframe tbody tr th {\n",
              "        vertical-align: top;\n",
              "    }\n",
              "\n",
              "    .dataframe thead th {\n",
              "        text-align: right;\n",
              "    }\n",
              "</style>\n",
              "<table border=\"1\" class=\"dataframe\">\n",
              "  <thead>\n",
              "    <tr style=\"text-align: right;\">\n",
              "      <th></th>\n",
              "      <th>PH</th>\n",
              "      <th>cahaya</th>\n",
              "      <th>intensitas_air</th>\n",
              "      <th>suhu</th>\n",
              "      <th>PPM</th>\n",
              "      <th>tinggi_air</th>\n",
              "      <th>aksi</th>\n",
              "    </tr>\n",
              "  </thead>\n",
              "  <tbody>\n",
              "    <tr>\n",
              "      <th>0</th>\n",
              "      <td>6.5</td>\n",
              "      <td>Ada</td>\n",
              "      <td>Tinggi</td>\n",
              "      <td>27.0</td>\n",
              "      <td>188.0</td>\n",
              "      <td>622</td>\n",
              "      <td>Hidupkan Lampu dan Pompa nutrisi TDS</td>\n",
              "    </tr>\n",
              "    <tr>\n",
              "      <th>1</th>\n",
              "      <td>5.7</td>\n",
              "      <td>Ada</td>\n",
              "      <td>Tinggi</td>\n",
              "      <td>26.9</td>\n",
              "      <td>79.0</td>\n",
              "      <td>557</td>\n",
              "      <td>Hidupkan Lampu dan Pompa nutrisi TDS</td>\n",
              "    </tr>\n",
              "    <tr>\n",
              "      <th>2</th>\n",
              "      <td>6.0</td>\n",
              "      <td>Ada</td>\n",
              "      <td>Tinggi</td>\n",
              "      <td>27.0</td>\n",
              "      <td>11.0</td>\n",
              "      <td>491</td>\n",
              "      <td>Hidupkan Lampu dan Pompa nutrisi TDS</td>\n",
              "    </tr>\n",
              "    <tr>\n",
              "      <th>3</th>\n",
              "      <td>6.5</td>\n",
              "      <td>Ada</td>\n",
              "      <td>Tinggi</td>\n",
              "      <td>27.1</td>\n",
              "      <td>345.0</td>\n",
              "      <td>12000</td>\n",
              "      <td>Tidak melakukan apa-apa</td>\n",
              "    </tr>\n",
              "    <tr>\n",
              "      <th>4</th>\n",
              "      <td>6.2</td>\n",
              "      <td>NaN</td>\n",
              "      <td>Tinggi</td>\n",
              "      <td>27.1</td>\n",
              "      <td>602.0</td>\n",
              "      <td>444</td>\n",
              "      <td>Tidak melakukan apa-apa</td>\n",
              "    </tr>\n",
              "    <tr>\n",
              "      <th>...</th>\n",
              "      <td>...</td>\n",
              "      <td>...</td>\n",
              "      <td>...</td>\n",
              "      <td>...</td>\n",
              "      <td>...</td>\n",
              "      <td>...</td>\n",
              "      <td>...</td>\n",
              "    </tr>\n",
              "    <tr>\n",
              "      <th>611</th>\n",
              "      <td>4.6</td>\n",
              "      <td>Ada</td>\n",
              "      <td>Rendah sekali</td>\n",
              "      <td>25.3</td>\n",
              "      <td>904.0</td>\n",
              "      <td>47</td>\n",
              "      <td>Hidupkan Lampu</td>\n",
              "    </tr>\n",
              "    <tr>\n",
              "      <th>612</th>\n",
              "      <td>2.1</td>\n",
              "      <td>Ada</td>\n",
              "      <td>Rendah sekali</td>\n",
              "      <td>25.0</td>\n",
              "      <td>388.0</td>\n",
              "      <td>18</td>\n",
              "      <td>Hidupkan Lampu dan Pompa nutrisi TDS</td>\n",
              "    </tr>\n",
              "    <tr>\n",
              "      <th>613</th>\n",
              "      <td>3.2</td>\n",
              "      <td>Ada</td>\n",
              "      <td>Rendah sekali</td>\n",
              "      <td>25.3</td>\n",
              "      <td>793.0</td>\n",
              "      <td>19</td>\n",
              "      <td>Hidupkan Lampu</td>\n",
              "    </tr>\n",
              "    <tr>\n",
              "      <th>614</th>\n",
              "      <td>1.4</td>\n",
              "      <td>Ada</td>\n",
              "      <td>Rendah sekali</td>\n",
              "      <td>25.4</td>\n",
              "      <td>1052.0</td>\n",
              "      <td>3</td>\n",
              "      <td>Hidupkan Lampu</td>\n",
              "    </tr>\n",
              "    <tr>\n",
              "      <th>615</th>\n",
              "      <td>5.0</td>\n",
              "      <td>Ada</td>\n",
              "      <td>Rendah sekali</td>\n",
              "      <td>25.3</td>\n",
              "      <td>977.0</td>\n",
              "      <td>19</td>\n",
              "      <td>Hidupkan Lampu</td>\n",
              "    </tr>\n",
              "  </tbody>\n",
              "</table>\n",
              "<p>616 rows × 7 columns</p>\n",
              "</div>"
            ],
            "text/plain": [
              "      PH cahaya  ... tinggi_air                                  aksi\n",
              "0    6.5    Ada  ...        622  Hidupkan Lampu dan Pompa nutrisi TDS\n",
              "1    5.7    Ada  ...        557  Hidupkan Lampu dan Pompa nutrisi TDS\n",
              "2    6.0    Ada  ...        491  Hidupkan Lampu dan Pompa nutrisi TDS\n",
              "3    6.5    Ada  ...      12000               Tidak melakukan apa-apa\n",
              "4    6.2    NaN  ...        444               Tidak melakukan apa-apa\n",
              "..   ...    ...  ...        ...                                   ...\n",
              "611  4.6    Ada  ...         47                        Hidupkan Lampu\n",
              "612  2.1    Ada  ...         18  Hidupkan Lampu dan Pompa nutrisi TDS\n",
              "613  3.2    Ada  ...         19                        Hidupkan Lampu\n",
              "614  1.4    Ada  ...          3                        Hidupkan Lampu\n",
              "615  5.0    Ada  ...         19                        Hidupkan Lampu\n",
              "\n",
              "[616 rows x 7 columns]"
            ]
          },
          "metadata": {},
          "execution_count": 5
        }
      ]
    },
    {
      "cell_type": "markdown",
      "metadata": {
        "id": "vCYDhpdfa9Vt"
      },
      "source": [
        "## 2. Mengganti data kategorikal menjadi bentuk numerical (Clue : Labelencoder tidak bekerja ketika ada missing value, gunakan metode lain)"
      ]
    },
    {
      "cell_type": "code",
      "metadata": {
        "id": "HNAJfwlCa9Vu",
        "colab": {
          "base_uri": "https://localhost:8080/",
          "height": 419
        },
        "outputId": "271d3b1f-9c09-4925-9c38-1dd848a2cf65"
      },
      "source": [
        "#Isi Code\n",
        "### Data kategorikal = Cahaya , Intensitas_air , aksi \n",
        "\n",
        "def getcahaya(str) : \n",
        "  if str==\"Ada\":\n",
        "    return 1\n",
        "  elif str=='Tidak ada': \n",
        "    return 2 \n",
        "  else : \n",
        "    return str \n",
        "\n",
        "data[\"cahaya\"]=data[\"cahaya\"].apply(getcahaya)\n",
        "data"
      ],
      "execution_count": null,
      "outputs": [
        {
          "output_type": "execute_result",
          "data": {
            "text/html": [
              "<div>\n",
              "<style scoped>\n",
              "    .dataframe tbody tr th:only-of-type {\n",
              "        vertical-align: middle;\n",
              "    }\n",
              "\n",
              "    .dataframe tbody tr th {\n",
              "        vertical-align: top;\n",
              "    }\n",
              "\n",
              "    .dataframe thead th {\n",
              "        text-align: right;\n",
              "    }\n",
              "</style>\n",
              "<table border=\"1\" class=\"dataframe\">\n",
              "  <thead>\n",
              "    <tr style=\"text-align: right;\">\n",
              "      <th></th>\n",
              "      <th>PH</th>\n",
              "      <th>cahaya</th>\n",
              "      <th>intensitas_air</th>\n",
              "      <th>suhu</th>\n",
              "      <th>PPM</th>\n",
              "      <th>tinggi_air</th>\n",
              "      <th>aksi</th>\n",
              "    </tr>\n",
              "  </thead>\n",
              "  <tbody>\n",
              "    <tr>\n",
              "      <th>0</th>\n",
              "      <td>6.5</td>\n",
              "      <td>1.0</td>\n",
              "      <td>Tinggi</td>\n",
              "      <td>27.0</td>\n",
              "      <td>188.0</td>\n",
              "      <td>622</td>\n",
              "      <td>Hidupkan Lampu dan Pompa nutrisi TDS</td>\n",
              "    </tr>\n",
              "    <tr>\n",
              "      <th>1</th>\n",
              "      <td>5.7</td>\n",
              "      <td>1.0</td>\n",
              "      <td>Tinggi</td>\n",
              "      <td>26.9</td>\n",
              "      <td>79.0</td>\n",
              "      <td>557</td>\n",
              "      <td>Hidupkan Lampu dan Pompa nutrisi TDS</td>\n",
              "    </tr>\n",
              "    <tr>\n",
              "      <th>2</th>\n",
              "      <td>6.0</td>\n",
              "      <td>1.0</td>\n",
              "      <td>Tinggi</td>\n",
              "      <td>27.0</td>\n",
              "      <td>11.0</td>\n",
              "      <td>491</td>\n",
              "      <td>Hidupkan Lampu dan Pompa nutrisi TDS</td>\n",
              "    </tr>\n",
              "    <tr>\n",
              "      <th>3</th>\n",
              "      <td>6.5</td>\n",
              "      <td>1.0</td>\n",
              "      <td>Tinggi</td>\n",
              "      <td>27.1</td>\n",
              "      <td>345.0</td>\n",
              "      <td>12000</td>\n",
              "      <td>Tidak melakukan apa-apa</td>\n",
              "    </tr>\n",
              "    <tr>\n",
              "      <th>4</th>\n",
              "      <td>6.2</td>\n",
              "      <td>NaN</td>\n",
              "      <td>Tinggi</td>\n",
              "      <td>27.1</td>\n",
              "      <td>602.0</td>\n",
              "      <td>444</td>\n",
              "      <td>Tidak melakukan apa-apa</td>\n",
              "    </tr>\n",
              "    <tr>\n",
              "      <th>...</th>\n",
              "      <td>...</td>\n",
              "      <td>...</td>\n",
              "      <td>...</td>\n",
              "      <td>...</td>\n",
              "      <td>...</td>\n",
              "      <td>...</td>\n",
              "      <td>...</td>\n",
              "    </tr>\n",
              "    <tr>\n",
              "      <th>611</th>\n",
              "      <td>4.6</td>\n",
              "      <td>1.0</td>\n",
              "      <td>Rendah sekali</td>\n",
              "      <td>25.3</td>\n",
              "      <td>904.0</td>\n",
              "      <td>47</td>\n",
              "      <td>Hidupkan Lampu</td>\n",
              "    </tr>\n",
              "    <tr>\n",
              "      <th>612</th>\n",
              "      <td>2.1</td>\n",
              "      <td>1.0</td>\n",
              "      <td>Rendah sekali</td>\n",
              "      <td>25.0</td>\n",
              "      <td>388.0</td>\n",
              "      <td>18</td>\n",
              "      <td>Hidupkan Lampu dan Pompa nutrisi TDS</td>\n",
              "    </tr>\n",
              "    <tr>\n",
              "      <th>613</th>\n",
              "      <td>3.2</td>\n",
              "      <td>1.0</td>\n",
              "      <td>Rendah sekali</td>\n",
              "      <td>25.3</td>\n",
              "      <td>793.0</td>\n",
              "      <td>19</td>\n",
              "      <td>Hidupkan Lampu</td>\n",
              "    </tr>\n",
              "    <tr>\n",
              "      <th>614</th>\n",
              "      <td>1.4</td>\n",
              "      <td>1.0</td>\n",
              "      <td>Rendah sekali</td>\n",
              "      <td>25.4</td>\n",
              "      <td>1052.0</td>\n",
              "      <td>3</td>\n",
              "      <td>Hidupkan Lampu</td>\n",
              "    </tr>\n",
              "    <tr>\n",
              "      <th>615</th>\n",
              "      <td>5.0</td>\n",
              "      <td>1.0</td>\n",
              "      <td>Rendah sekali</td>\n",
              "      <td>25.3</td>\n",
              "      <td>977.0</td>\n",
              "      <td>19</td>\n",
              "      <td>Hidupkan Lampu</td>\n",
              "    </tr>\n",
              "  </tbody>\n",
              "</table>\n",
              "<p>616 rows × 7 columns</p>\n",
              "</div>"
            ],
            "text/plain": [
              "      PH  cahaya  ... tinggi_air                                  aksi\n",
              "0    6.5     1.0  ...        622  Hidupkan Lampu dan Pompa nutrisi TDS\n",
              "1    5.7     1.0  ...        557  Hidupkan Lampu dan Pompa nutrisi TDS\n",
              "2    6.0     1.0  ...        491  Hidupkan Lampu dan Pompa nutrisi TDS\n",
              "3    6.5     1.0  ...      12000               Tidak melakukan apa-apa\n",
              "4    6.2     NaN  ...        444               Tidak melakukan apa-apa\n",
              "..   ...     ...  ...        ...                                   ...\n",
              "611  4.6     1.0  ...         47                        Hidupkan Lampu\n",
              "612  2.1     1.0  ...         18  Hidupkan Lampu dan Pompa nutrisi TDS\n",
              "613  3.2     1.0  ...         19                        Hidupkan Lampu\n",
              "614  1.4     1.0  ...          3                        Hidupkan Lampu\n",
              "615  5.0     1.0  ...         19                        Hidupkan Lampu\n",
              "\n",
              "[616 rows x 7 columns]"
            ]
          },
          "metadata": {},
          "execution_count": 6
        }
      ]
    },
    {
      "cell_type": "code",
      "metadata": {
        "colab": {
          "base_uri": "https://localhost:8080/",
          "height": 419
        },
        "id": "ztATx0N2N-S0",
        "outputId": "10de4b15-d7d6-4b38-b601-4e7f039ed4ab"
      },
      "source": [
        "def getInt(str): \n",
        "  if str==\"Tinggi\" :\n",
        "    return 1.0\n",
        "  elif str==\"Cukup\" : \n",
        "    return 2.0\n",
        "  elif str=='Rendah' :\n",
        "    return 3.0\n",
        "  elif str=='Rendah sekali' :\n",
        "    return 4.0\n",
        "  else : \n",
        "    return str \n",
        "    \n",
        "data[\"intensitas_air\"]=data[\"intensitas_air\"].apply(getInt)\n",
        "data"
      ],
      "execution_count": null,
      "outputs": [
        {
          "output_type": "execute_result",
          "data": {
            "text/html": [
              "<div>\n",
              "<style scoped>\n",
              "    .dataframe tbody tr th:only-of-type {\n",
              "        vertical-align: middle;\n",
              "    }\n",
              "\n",
              "    .dataframe tbody tr th {\n",
              "        vertical-align: top;\n",
              "    }\n",
              "\n",
              "    .dataframe thead th {\n",
              "        text-align: right;\n",
              "    }\n",
              "</style>\n",
              "<table border=\"1\" class=\"dataframe\">\n",
              "  <thead>\n",
              "    <tr style=\"text-align: right;\">\n",
              "      <th></th>\n",
              "      <th>PH</th>\n",
              "      <th>cahaya</th>\n",
              "      <th>intensitas_air</th>\n",
              "      <th>suhu</th>\n",
              "      <th>PPM</th>\n",
              "      <th>tinggi_air</th>\n",
              "      <th>aksi</th>\n",
              "    </tr>\n",
              "  </thead>\n",
              "  <tbody>\n",
              "    <tr>\n",
              "      <th>0</th>\n",
              "      <td>6.5</td>\n",
              "      <td>1.0</td>\n",
              "      <td>1.0</td>\n",
              "      <td>27.0</td>\n",
              "      <td>188.0</td>\n",
              "      <td>622</td>\n",
              "      <td>Hidupkan Lampu dan Pompa nutrisi TDS</td>\n",
              "    </tr>\n",
              "    <tr>\n",
              "      <th>1</th>\n",
              "      <td>5.7</td>\n",
              "      <td>1.0</td>\n",
              "      <td>1.0</td>\n",
              "      <td>26.9</td>\n",
              "      <td>79.0</td>\n",
              "      <td>557</td>\n",
              "      <td>Hidupkan Lampu dan Pompa nutrisi TDS</td>\n",
              "    </tr>\n",
              "    <tr>\n",
              "      <th>2</th>\n",
              "      <td>6.0</td>\n",
              "      <td>1.0</td>\n",
              "      <td>1.0</td>\n",
              "      <td>27.0</td>\n",
              "      <td>11.0</td>\n",
              "      <td>491</td>\n",
              "      <td>Hidupkan Lampu dan Pompa nutrisi TDS</td>\n",
              "    </tr>\n",
              "    <tr>\n",
              "      <th>3</th>\n",
              "      <td>6.5</td>\n",
              "      <td>1.0</td>\n",
              "      <td>1.0</td>\n",
              "      <td>27.1</td>\n",
              "      <td>345.0</td>\n",
              "      <td>12000</td>\n",
              "      <td>Tidak melakukan apa-apa</td>\n",
              "    </tr>\n",
              "    <tr>\n",
              "      <th>4</th>\n",
              "      <td>6.2</td>\n",
              "      <td>NaN</td>\n",
              "      <td>1.0</td>\n",
              "      <td>27.1</td>\n",
              "      <td>602.0</td>\n",
              "      <td>444</td>\n",
              "      <td>Tidak melakukan apa-apa</td>\n",
              "    </tr>\n",
              "    <tr>\n",
              "      <th>...</th>\n",
              "      <td>...</td>\n",
              "      <td>...</td>\n",
              "      <td>...</td>\n",
              "      <td>...</td>\n",
              "      <td>...</td>\n",
              "      <td>...</td>\n",
              "      <td>...</td>\n",
              "    </tr>\n",
              "    <tr>\n",
              "      <th>611</th>\n",
              "      <td>4.6</td>\n",
              "      <td>1.0</td>\n",
              "      <td>4.0</td>\n",
              "      <td>25.3</td>\n",
              "      <td>904.0</td>\n",
              "      <td>47</td>\n",
              "      <td>Hidupkan Lampu</td>\n",
              "    </tr>\n",
              "    <tr>\n",
              "      <th>612</th>\n",
              "      <td>2.1</td>\n",
              "      <td>1.0</td>\n",
              "      <td>4.0</td>\n",
              "      <td>25.0</td>\n",
              "      <td>388.0</td>\n",
              "      <td>18</td>\n",
              "      <td>Hidupkan Lampu dan Pompa nutrisi TDS</td>\n",
              "    </tr>\n",
              "    <tr>\n",
              "      <th>613</th>\n",
              "      <td>3.2</td>\n",
              "      <td>1.0</td>\n",
              "      <td>4.0</td>\n",
              "      <td>25.3</td>\n",
              "      <td>793.0</td>\n",
              "      <td>19</td>\n",
              "      <td>Hidupkan Lampu</td>\n",
              "    </tr>\n",
              "    <tr>\n",
              "      <th>614</th>\n",
              "      <td>1.4</td>\n",
              "      <td>1.0</td>\n",
              "      <td>4.0</td>\n",
              "      <td>25.4</td>\n",
              "      <td>1052.0</td>\n",
              "      <td>3</td>\n",
              "      <td>Hidupkan Lampu</td>\n",
              "    </tr>\n",
              "    <tr>\n",
              "      <th>615</th>\n",
              "      <td>5.0</td>\n",
              "      <td>1.0</td>\n",
              "      <td>4.0</td>\n",
              "      <td>25.3</td>\n",
              "      <td>977.0</td>\n",
              "      <td>19</td>\n",
              "      <td>Hidupkan Lampu</td>\n",
              "    </tr>\n",
              "  </tbody>\n",
              "</table>\n",
              "<p>616 rows × 7 columns</p>\n",
              "</div>"
            ],
            "text/plain": [
              "      PH  cahaya  ...  tinggi_air                                  aksi\n",
              "0    6.5     1.0  ...         622  Hidupkan Lampu dan Pompa nutrisi TDS\n",
              "1    5.7     1.0  ...         557  Hidupkan Lampu dan Pompa nutrisi TDS\n",
              "2    6.0     1.0  ...         491  Hidupkan Lampu dan Pompa nutrisi TDS\n",
              "3    6.5     1.0  ...       12000               Tidak melakukan apa-apa\n",
              "4    6.2     NaN  ...         444               Tidak melakukan apa-apa\n",
              "..   ...     ...  ...         ...                                   ...\n",
              "611  4.6     1.0  ...          47                        Hidupkan Lampu\n",
              "612  2.1     1.0  ...          18  Hidupkan Lampu dan Pompa nutrisi TDS\n",
              "613  3.2     1.0  ...          19                        Hidupkan Lampu\n",
              "614  1.4     1.0  ...           3                        Hidupkan Lampu\n",
              "615  5.0     1.0  ...          19                        Hidupkan Lampu\n",
              "\n",
              "[616 rows x 7 columns]"
            ]
          },
          "metadata": {},
          "execution_count": 7
        }
      ]
    },
    {
      "cell_type": "code",
      "metadata": {
        "colab": {
          "base_uri": "https://localhost:8080/",
          "height": 419
        },
        "id": "zo3XamQuOCLs",
        "outputId": "47dc1cb5-d64e-4ca5-fe1c-40405d002f4d"
      },
      "source": [
        "def getAksi(str):\n",
        "   \n",
        "  if str ==\"Hidupkan Lampu dan Pompa nutrisi TDS\":\n",
        "    return 1\n",
        "  elif str == \"Tidak melakukan apa-apa\": \n",
        "    return 2 \n",
        "  elif str==\"Hidupkan Lampu\": \n",
        "    return 3 \n",
        "  elif str=='Hidupkan Pompa nutrisi TDS':\n",
        "    return 4\n",
        "  else :\n",
        "    return str \n",
        "\n",
        "data[\"aksi\"]=data[\"aksi\"].apply(getAksi)\n",
        "data "
      ],
      "execution_count": null,
      "outputs": [
        {
          "output_type": "execute_result",
          "data": {
            "text/html": [
              "<div>\n",
              "<style scoped>\n",
              "    .dataframe tbody tr th:only-of-type {\n",
              "        vertical-align: middle;\n",
              "    }\n",
              "\n",
              "    .dataframe tbody tr th {\n",
              "        vertical-align: top;\n",
              "    }\n",
              "\n",
              "    .dataframe thead th {\n",
              "        text-align: right;\n",
              "    }\n",
              "</style>\n",
              "<table border=\"1\" class=\"dataframe\">\n",
              "  <thead>\n",
              "    <tr style=\"text-align: right;\">\n",
              "      <th></th>\n",
              "      <th>PH</th>\n",
              "      <th>cahaya</th>\n",
              "      <th>intensitas_air</th>\n",
              "      <th>suhu</th>\n",
              "      <th>PPM</th>\n",
              "      <th>tinggi_air</th>\n",
              "      <th>aksi</th>\n",
              "    </tr>\n",
              "  </thead>\n",
              "  <tbody>\n",
              "    <tr>\n",
              "      <th>0</th>\n",
              "      <td>6.5</td>\n",
              "      <td>1.0</td>\n",
              "      <td>1.0</td>\n",
              "      <td>27.0</td>\n",
              "      <td>188.0</td>\n",
              "      <td>622</td>\n",
              "      <td>1</td>\n",
              "    </tr>\n",
              "    <tr>\n",
              "      <th>1</th>\n",
              "      <td>5.7</td>\n",
              "      <td>1.0</td>\n",
              "      <td>1.0</td>\n",
              "      <td>26.9</td>\n",
              "      <td>79.0</td>\n",
              "      <td>557</td>\n",
              "      <td>1</td>\n",
              "    </tr>\n",
              "    <tr>\n",
              "      <th>2</th>\n",
              "      <td>6.0</td>\n",
              "      <td>1.0</td>\n",
              "      <td>1.0</td>\n",
              "      <td>27.0</td>\n",
              "      <td>11.0</td>\n",
              "      <td>491</td>\n",
              "      <td>1</td>\n",
              "    </tr>\n",
              "    <tr>\n",
              "      <th>3</th>\n",
              "      <td>6.5</td>\n",
              "      <td>1.0</td>\n",
              "      <td>1.0</td>\n",
              "      <td>27.1</td>\n",
              "      <td>345.0</td>\n",
              "      <td>12000</td>\n",
              "      <td>2</td>\n",
              "    </tr>\n",
              "    <tr>\n",
              "      <th>4</th>\n",
              "      <td>6.2</td>\n",
              "      <td>NaN</td>\n",
              "      <td>1.0</td>\n",
              "      <td>27.1</td>\n",
              "      <td>602.0</td>\n",
              "      <td>444</td>\n",
              "      <td>2</td>\n",
              "    </tr>\n",
              "    <tr>\n",
              "      <th>...</th>\n",
              "      <td>...</td>\n",
              "      <td>...</td>\n",
              "      <td>...</td>\n",
              "      <td>...</td>\n",
              "      <td>...</td>\n",
              "      <td>...</td>\n",
              "      <td>...</td>\n",
              "    </tr>\n",
              "    <tr>\n",
              "      <th>611</th>\n",
              "      <td>4.6</td>\n",
              "      <td>1.0</td>\n",
              "      <td>4.0</td>\n",
              "      <td>25.3</td>\n",
              "      <td>904.0</td>\n",
              "      <td>47</td>\n",
              "      <td>3</td>\n",
              "    </tr>\n",
              "    <tr>\n",
              "      <th>612</th>\n",
              "      <td>2.1</td>\n",
              "      <td>1.0</td>\n",
              "      <td>4.0</td>\n",
              "      <td>25.0</td>\n",
              "      <td>388.0</td>\n",
              "      <td>18</td>\n",
              "      <td>1</td>\n",
              "    </tr>\n",
              "    <tr>\n",
              "      <th>613</th>\n",
              "      <td>3.2</td>\n",
              "      <td>1.0</td>\n",
              "      <td>4.0</td>\n",
              "      <td>25.3</td>\n",
              "      <td>793.0</td>\n",
              "      <td>19</td>\n",
              "      <td>3</td>\n",
              "    </tr>\n",
              "    <tr>\n",
              "      <th>614</th>\n",
              "      <td>1.4</td>\n",
              "      <td>1.0</td>\n",
              "      <td>4.0</td>\n",
              "      <td>25.4</td>\n",
              "      <td>1052.0</td>\n",
              "      <td>3</td>\n",
              "      <td>3</td>\n",
              "    </tr>\n",
              "    <tr>\n",
              "      <th>615</th>\n",
              "      <td>5.0</td>\n",
              "      <td>1.0</td>\n",
              "      <td>4.0</td>\n",
              "      <td>25.3</td>\n",
              "      <td>977.0</td>\n",
              "      <td>19</td>\n",
              "      <td>3</td>\n",
              "    </tr>\n",
              "  </tbody>\n",
              "</table>\n",
              "<p>616 rows × 7 columns</p>\n",
              "</div>"
            ],
            "text/plain": [
              "      PH  cahaya  intensitas_air  suhu     PPM  tinggi_air  aksi\n",
              "0    6.5     1.0             1.0  27.0   188.0         622     1\n",
              "1    5.7     1.0             1.0  26.9    79.0         557     1\n",
              "2    6.0     1.0             1.0  27.0    11.0         491     1\n",
              "3    6.5     1.0             1.0  27.1   345.0       12000     2\n",
              "4    6.2     NaN             1.0  27.1   602.0         444     2\n",
              "..   ...     ...             ...   ...     ...         ...   ...\n",
              "611  4.6     1.0             4.0  25.3   904.0          47     3\n",
              "612  2.1     1.0             4.0  25.0   388.0          18     1\n",
              "613  3.2     1.0             4.0  25.3   793.0          19     3\n",
              "614  1.4     1.0             4.0  25.4  1052.0           3     3\n",
              "615  5.0     1.0             4.0  25.3   977.0          19     3\n",
              "\n",
              "[616 rows x 7 columns]"
            ]
          },
          "metadata": {},
          "execution_count": 8
        }
      ]
    },
    {
      "cell_type": "code",
      "metadata": {
        "colab": {
          "base_uri": "https://localhost:8080/",
          "height": 266
        },
        "id": "KcDYIwfbl_eb",
        "outputId": "f3782bda-9086-44ff-a5d8-e782487dfc4e"
      },
      "source": [
        "#Isi Code\n",
        "missing_data = pd.DataFrame({'total_missing': data.isnull().sum(), 'perc_missing': (data.isnull().sum()/616)*100})\n",
        "missing_data"
      ],
      "execution_count": null,
      "outputs": [
        {
          "output_type": "execute_result",
          "data": {
            "text/html": [
              "<div>\n",
              "<style scoped>\n",
              "    .dataframe tbody tr th:only-of-type {\n",
              "        vertical-align: middle;\n",
              "    }\n",
              "\n",
              "    .dataframe tbody tr th {\n",
              "        vertical-align: top;\n",
              "    }\n",
              "\n",
              "    .dataframe thead th {\n",
              "        text-align: right;\n",
              "    }\n",
              "</style>\n",
              "<table border=\"1\" class=\"dataframe\">\n",
              "  <thead>\n",
              "    <tr style=\"text-align: right;\">\n",
              "      <th></th>\n",
              "      <th>total_missing</th>\n",
              "      <th>perc_missing</th>\n",
              "    </tr>\n",
              "  </thead>\n",
              "  <tbody>\n",
              "    <tr>\n",
              "      <th>PH</th>\n",
              "      <td>16</td>\n",
              "      <td>2.597403</td>\n",
              "    </tr>\n",
              "    <tr>\n",
              "      <th>cahaya</th>\n",
              "      <td>26</td>\n",
              "      <td>4.220779</td>\n",
              "    </tr>\n",
              "    <tr>\n",
              "      <th>intensitas_air</th>\n",
              "      <td>0</td>\n",
              "      <td>0.000000</td>\n",
              "    </tr>\n",
              "    <tr>\n",
              "      <th>suhu</th>\n",
              "      <td>27</td>\n",
              "      <td>4.383117</td>\n",
              "    </tr>\n",
              "    <tr>\n",
              "      <th>PPM</th>\n",
              "      <td>5</td>\n",
              "      <td>0.811688</td>\n",
              "    </tr>\n",
              "    <tr>\n",
              "      <th>tinggi_air</th>\n",
              "      <td>0</td>\n",
              "      <td>0.000000</td>\n",
              "    </tr>\n",
              "    <tr>\n",
              "      <th>aksi</th>\n",
              "      <td>0</td>\n",
              "      <td>0.000000</td>\n",
              "    </tr>\n",
              "  </tbody>\n",
              "</table>\n",
              "</div>"
            ],
            "text/plain": [
              "                total_missing  perc_missing\n",
              "PH                         16      2.597403\n",
              "cahaya                     26      4.220779\n",
              "intensitas_air              0      0.000000\n",
              "suhu                       27      4.383117\n",
              "PPM                         5      0.811688\n",
              "tinggi_air                  0      0.000000\n",
              "aksi                        0      0.000000"
            ]
          },
          "metadata": {},
          "execution_count": 9
        }
      ]
    },
    {
      "cell_type": "markdown",
      "metadata": {
        "id": "W5Ka60uYa9Vv"
      },
      "source": [
        "## 3. Handle Missing Value"
      ]
    },
    {
      "cell_type": "code",
      "metadata": {
        "id": "XufVnI-jdNka",
        "colab": {
          "base_uri": "https://localhost:8080/"
        },
        "outputId": "05e5c260-719c-44e9-a108-1e3b88299746"
      },
      "source": [
        "data.mean()"
      ],
      "execution_count": null,
      "outputs": [
        {
          "output_type": "execute_result",
          "data": {
            "text/plain": [
              "PH                   6.655167\n",
              "cahaya               1.488136\n",
              "intensitas_air       2.500000\n",
              "suhu                29.364007\n",
              "PPM               1032.836334\n",
              "tinggi_air         288.173701\n",
              "aksi                 2.125000\n",
              "dtype: float64"
            ]
          },
          "metadata": {},
          "execution_count": 10
        }
      ]
    },
    {
      "cell_type": "code",
      "metadata": {
        "colab": {
          "base_uri": "https://localhost:8080/",
          "height": 419
        },
        "id": "txVIhM9O3X_d",
        "outputId": "0c96a6bb-20fa-48d3-dbe9-837738a4ae1f"
      },
      "source": [
        "### fillna untuk mengisi nilai yg nan\n",
        "data.fillna(data.mean(),inplace=True) \n",
        "data"
      ],
      "execution_count": null,
      "outputs": [
        {
          "output_type": "execute_result",
          "data": {
            "text/html": [
              "<div>\n",
              "<style scoped>\n",
              "    .dataframe tbody tr th:only-of-type {\n",
              "        vertical-align: middle;\n",
              "    }\n",
              "\n",
              "    .dataframe tbody tr th {\n",
              "        vertical-align: top;\n",
              "    }\n",
              "\n",
              "    .dataframe thead th {\n",
              "        text-align: right;\n",
              "    }\n",
              "</style>\n",
              "<table border=\"1\" class=\"dataframe\">\n",
              "  <thead>\n",
              "    <tr style=\"text-align: right;\">\n",
              "      <th></th>\n",
              "      <th>PH</th>\n",
              "      <th>cahaya</th>\n",
              "      <th>intensitas_air</th>\n",
              "      <th>suhu</th>\n",
              "      <th>PPM</th>\n",
              "      <th>tinggi_air</th>\n",
              "      <th>aksi</th>\n",
              "    </tr>\n",
              "  </thead>\n",
              "  <tbody>\n",
              "    <tr>\n",
              "      <th>0</th>\n",
              "      <td>6.5</td>\n",
              "      <td>1.000000</td>\n",
              "      <td>1.0</td>\n",
              "      <td>27.0</td>\n",
              "      <td>188.0</td>\n",
              "      <td>622</td>\n",
              "      <td>1</td>\n",
              "    </tr>\n",
              "    <tr>\n",
              "      <th>1</th>\n",
              "      <td>5.7</td>\n",
              "      <td>1.000000</td>\n",
              "      <td>1.0</td>\n",
              "      <td>26.9</td>\n",
              "      <td>79.0</td>\n",
              "      <td>557</td>\n",
              "      <td>1</td>\n",
              "    </tr>\n",
              "    <tr>\n",
              "      <th>2</th>\n",
              "      <td>6.0</td>\n",
              "      <td>1.000000</td>\n",
              "      <td>1.0</td>\n",
              "      <td>27.0</td>\n",
              "      <td>11.0</td>\n",
              "      <td>491</td>\n",
              "      <td>1</td>\n",
              "    </tr>\n",
              "    <tr>\n",
              "      <th>3</th>\n",
              "      <td>6.5</td>\n",
              "      <td>1.000000</td>\n",
              "      <td>1.0</td>\n",
              "      <td>27.1</td>\n",
              "      <td>345.0</td>\n",
              "      <td>12000</td>\n",
              "      <td>2</td>\n",
              "    </tr>\n",
              "    <tr>\n",
              "      <th>4</th>\n",
              "      <td>6.2</td>\n",
              "      <td>1.488136</td>\n",
              "      <td>1.0</td>\n",
              "      <td>27.1</td>\n",
              "      <td>602.0</td>\n",
              "      <td>444</td>\n",
              "      <td>2</td>\n",
              "    </tr>\n",
              "    <tr>\n",
              "      <th>...</th>\n",
              "      <td>...</td>\n",
              "      <td>...</td>\n",
              "      <td>...</td>\n",
              "      <td>...</td>\n",
              "      <td>...</td>\n",
              "      <td>...</td>\n",
              "      <td>...</td>\n",
              "    </tr>\n",
              "    <tr>\n",
              "      <th>611</th>\n",
              "      <td>4.6</td>\n",
              "      <td>1.000000</td>\n",
              "      <td>4.0</td>\n",
              "      <td>25.3</td>\n",
              "      <td>904.0</td>\n",
              "      <td>47</td>\n",
              "      <td>3</td>\n",
              "    </tr>\n",
              "    <tr>\n",
              "      <th>612</th>\n",
              "      <td>2.1</td>\n",
              "      <td>1.000000</td>\n",
              "      <td>4.0</td>\n",
              "      <td>25.0</td>\n",
              "      <td>388.0</td>\n",
              "      <td>18</td>\n",
              "      <td>1</td>\n",
              "    </tr>\n",
              "    <tr>\n",
              "      <th>613</th>\n",
              "      <td>3.2</td>\n",
              "      <td>1.000000</td>\n",
              "      <td>4.0</td>\n",
              "      <td>25.3</td>\n",
              "      <td>793.0</td>\n",
              "      <td>19</td>\n",
              "      <td>3</td>\n",
              "    </tr>\n",
              "    <tr>\n",
              "      <th>614</th>\n",
              "      <td>1.4</td>\n",
              "      <td>1.000000</td>\n",
              "      <td>4.0</td>\n",
              "      <td>25.4</td>\n",
              "      <td>1052.0</td>\n",
              "      <td>3</td>\n",
              "      <td>3</td>\n",
              "    </tr>\n",
              "    <tr>\n",
              "      <th>615</th>\n",
              "      <td>5.0</td>\n",
              "      <td>1.000000</td>\n",
              "      <td>4.0</td>\n",
              "      <td>25.3</td>\n",
              "      <td>977.0</td>\n",
              "      <td>19</td>\n",
              "      <td>3</td>\n",
              "    </tr>\n",
              "  </tbody>\n",
              "</table>\n",
              "<p>616 rows × 7 columns</p>\n",
              "</div>"
            ],
            "text/plain": [
              "      PH    cahaya  intensitas_air  suhu     PPM  tinggi_air  aksi\n",
              "0    6.5  1.000000             1.0  27.0   188.0         622     1\n",
              "1    5.7  1.000000             1.0  26.9    79.0         557     1\n",
              "2    6.0  1.000000             1.0  27.0    11.0         491     1\n",
              "3    6.5  1.000000             1.0  27.1   345.0       12000     2\n",
              "4    6.2  1.488136             1.0  27.1   602.0         444     2\n",
              "..   ...       ...             ...   ...     ...         ...   ...\n",
              "611  4.6  1.000000             4.0  25.3   904.0          47     3\n",
              "612  2.1  1.000000             4.0  25.0   388.0          18     1\n",
              "613  3.2  1.000000             4.0  25.3   793.0          19     3\n",
              "614  1.4  1.000000             4.0  25.4  1052.0           3     3\n",
              "615  5.0  1.000000             4.0  25.3   977.0          19     3\n",
              "\n",
              "[616 rows x 7 columns]"
            ]
          },
          "metadata": {},
          "execution_count": 11
        }
      ]
    },
    {
      "cell_type": "markdown",
      "metadata": {
        "id": "GELQ5uyda9Vw"
      },
      "source": [
        "## 4. Detect outliers dan handling (bisa dihapus atau diganti nilainya dengan mean/modus/median)"
      ]
    },
    {
      "cell_type": "code",
      "metadata": {
        "colab": {
          "base_uri": "https://localhost:8080/",
          "height": 613
        },
        "id": "C3W6sO0_3Trv",
        "outputId": "41485c32-de1a-418f-c607-97f601bc10fc"
      },
      "source": [
        "num_cols = ['PH', 'cahaya', 'intensitas_air', 'suhu', 'PPM', 'tinggi_air', 'aksi']\n",
        "plt.figure(figsize=(10,10))\n",
        "data[num_cols].boxplot()\n",
        "plt.title(\"Sesuatu yang berhubungan dengan tumbuhan \", fontsize=20)\n",
        "plt.show()"
      ],
      "execution_count": null,
      "outputs": [
        {
          "output_type": "display_data",
          "data": {
            "image/png": "[encoded data removed]",
            "text/plain": [
              "<Figure size 720x720 with 1 Axes>"
            ]
          },
          "metadata": {
            "needs_background": "light"
          }
        }
      ]
    },
    {
      "cell_type": "code",
      "metadata": {
        "colab": {
          "base_uri": "https://localhost:8080/"
        },
        "id": "41CqCEJfEcrF",
        "outputId": "64481c0c-f4f7-419d-8414-16d04d838895"
      },
      "source": [
        "data.median()"
      ],
      "execution_count": null,
      "outputs": [
        {
          "output_type": "execute_result",
          "data": {
            "text/plain": [
              "PH                  6.500000\n",
              "cahaya              1.488136\n",
              "intensitas_air      2.500000\n",
              "suhu               29.500000\n",
              "PPM               995.500000\n",
              "tinggi_air        230.000000\n",
              "aksi                2.000000\n",
              "dtype: float64"
            ]
          },
          "metadata": {},
          "execution_count": 13
        }
      ]
    },
    {
      "cell_type": "code",
      "metadata": {
        "colab": {
          "base_uri": "https://localhost:8080/"
        },
        "id": "c984_WeqFZGt",
        "outputId": "0661b888-0b80-4e20-83d9-9f7d4a4cc391"
      },
      "source": [
        "data['tinggi_air']"
      ],
      "execution_count": null,
      "outputs": [
        {
          "output_type": "execute_result",
          "data": {
            "text/plain": [
              "0        622\n",
              "1        557\n",
              "2        491\n",
              "3      12000\n",
              "4        444\n",
              "       ...  \n",
              "611       47\n",
              "612       18\n",
              "613       19\n",
              "614        3\n",
              "615       19\n",
              "Name: tinggi_air, Length: 616, dtype: int64"
            ]
          },
          "metadata": {},
          "execution_count": 14
        }
      ]
    },
    {
      "cell_type": "markdown",
      "metadata": {
        "id": "KqHTqG0FIbK2"
      },
      "source": [
        "### Menghilangkan Outliers dengan median "
      ]
    },
    {
      "cell_type": "code",
      "metadata": {
        "colab": {
          "base_uri": "https://localhost:8080/",
          "height": 331
        },
        "id": "xZFT2JX7G_GS",
        "outputId": "bc352214-d365-46ce-f891-ea4cc5071487"
      },
      "source": [
        "print(data['tinggi_air'].quantile(0.50)) \n",
        "print(data['tinggi_air'].quantile(0.95)) \n",
        "data['tinggi_air'] = np.where(data['tinggi_air'] > 592, 230, data['tinggi_air'])\n",
        "data.describe()"
      ],
      "execution_count": null,
      "outputs": [
        {
          "output_type": "stream",
          "name": "stdout",
          "text": [
            "230.0\n",
            "591.75\n"
          ]
        },
        {
          "output_type": "execute_result",
          "data": {
            "text/html": [
              "<div>\n",
              "<style scoped>\n",
              "    .dataframe tbody tr th:only-of-type {\n",
              "        vertical-align: middle;\n",
              "    }\n",
              "\n",
              "    .dataframe tbody tr th {\n",
              "        vertical-align: top;\n",
              "    }\n",
              "\n",
              "    .dataframe thead th {\n",
              "        text-align: right;\n",
              "    }\n",
              "</style>\n",
              "<table border=\"1\" class=\"dataframe\">\n",
              "  <thead>\n",
              "    <tr style=\"text-align: right;\">\n",
              "      <th></th>\n",
              "      <th>PH</th>\n",
              "      <th>cahaya</th>\n",
              "      <th>intensitas_air</th>\n",
              "      <th>suhu</th>\n",
              "      <th>PPM</th>\n",
              "      <th>tinggi_air</th>\n",
              "      <th>aksi</th>\n",
              "    </tr>\n",
              "  </thead>\n",
              "  <tbody>\n",
              "    <tr>\n",
              "      <th>count</th>\n",
              "      <td>616.000000</td>\n",
              "      <td>616.000000</td>\n",
              "      <td>616.000000</td>\n",
              "      <td>616.000000</td>\n",
              "      <td>616.000000</td>\n",
              "      <td>616.000000</td>\n",
              "      <td>616.000000</td>\n",
              "    </tr>\n",
              "    <tr>\n",
              "      <th>mean</th>\n",
              "      <td>6.655167</td>\n",
              "      <td>1.488136</td>\n",
              "      <td>2.500000</td>\n",
              "      <td>29.364007</td>\n",
              "      <td>1032.836334</td>\n",
              "      <td>236.878247</td>\n",
              "      <td>2.125000</td>\n",
              "    </tr>\n",
              "    <tr>\n",
              "      <th>std</th>\n",
              "      <td>3.003387</td>\n",
              "      <td>0.489594</td>\n",
              "      <td>1.118943</td>\n",
              "      <td>14.605947</td>\n",
              "      <td>630.037913</td>\n",
              "      <td>183.345513</td>\n",
              "      <td>0.524792</td>\n",
              "    </tr>\n",
              "    <tr>\n",
              "      <th>min</th>\n",
              "      <td>0.000000</td>\n",
              "      <td>1.000000</td>\n",
              "      <td>1.000000</td>\n",
              "      <td>-300.000000</td>\n",
              "      <td>1.000000</td>\n",
              "      <td>0.000000</td>\n",
              "      <td>1.000000</td>\n",
              "    </tr>\n",
              "    <tr>\n",
              "      <th>25%</th>\n",
              "      <td>5.500000</td>\n",
              "      <td>1.000000</td>\n",
              "      <td>1.750000</td>\n",
              "      <td>27.100000</td>\n",
              "      <td>490.500000</td>\n",
              "      <td>50.000000</td>\n",
              "      <td>2.000000</td>\n",
              "    </tr>\n",
              "    <tr>\n",
              "      <th>50%</th>\n",
              "      <td>6.500000</td>\n",
              "      <td>1.488136</td>\n",
              "      <td>2.500000</td>\n",
              "      <td>29.500000</td>\n",
              "      <td>995.500000</td>\n",
              "      <td>229.500000</td>\n",
              "      <td>2.000000</td>\n",
              "    </tr>\n",
              "    <tr>\n",
              "      <th>75%</th>\n",
              "      <td>7.525000</td>\n",
              "      <td>2.000000</td>\n",
              "      <td>3.250000</td>\n",
              "      <td>32.900000</td>\n",
              "      <td>1603.000000</td>\n",
              "      <td>394.250000</td>\n",
              "      <td>2.000000</td>\n",
              "    </tr>\n",
              "    <tr>\n",
              "      <th>max</th>\n",
              "      <td>14.000000</td>\n",
              "      <td>2.000000</td>\n",
              "      <td>4.000000</td>\n",
              "      <td>40.600000</td>\n",
              "      <td>2149.000000</td>\n",
              "      <td>591.000000</td>\n",
              "      <td>4.000000</td>\n",
              "    </tr>\n",
              "  </tbody>\n",
              "</table>\n",
              "</div>"
            ],
            "text/plain": [
              "               PH      cahaya  ...  tinggi_air        aksi\n",
              "count  616.000000  616.000000  ...  616.000000  616.000000\n",
              "mean     6.655167    1.488136  ...  236.878247    2.125000\n",
              "std      3.003387    0.489594  ...  183.345513    0.524792\n",
              "min      0.000000    1.000000  ...    0.000000    1.000000\n",
              "25%      5.500000    1.000000  ...   50.000000    2.000000\n",
              "50%      6.500000    1.488136  ...  229.500000    2.000000\n",
              "75%      7.525000    2.000000  ...  394.250000    2.000000\n",
              "max     14.000000    2.000000  ...  591.000000    4.000000\n",
              "\n",
              "[8 rows x 7 columns]"
            ]
          },
          "metadata": {},
          "execution_count": 15
        }
      ]
    },
    {
      "cell_type": "code",
      "metadata": {
        "colab": {
          "base_uri": "https://localhost:8080/",
          "height": 613
        },
        "id": "2oc-_7c7H3ty",
        "outputId": "f81da01b-39f6-48b2-c483-676a34b0406c"
      },
      "source": [
        "num_cols = ['tinggi_air']\n",
        "plt.figure(figsize=(10,10))\n",
        "data[num_cols].boxplot()\n",
        "plt.title(\"Setelah menghilangkan outliers \", fontsize=20)\n",
        "plt.show()"
      ],
      "execution_count": null,
      "outputs": [
        {
          "output_type": "display_data",
          "data": {
            "image/png": "[encoded data removed]",
            "text/plain": [
              "<Figure size 720x720 with 1 Axes>"
            ]
          },
          "metadata": {
            "needs_background": "light"
          }
        }
      ]
    },
    {
      "cell_type": "markdown",
      "metadata": {
        "id": "EFQ0YfYLa9Vy"
      },
      "source": [
        "## 5. Pisahkan data feature dengan label"
      ]
    },
    {
      "cell_type": "code",
      "metadata": {
        "id": "Jjxt06KTa9Vy"
      },
      "source": [
        "#Isi Code\n",
        "# Memisahkan antara fitur dan label\n",
        "\n",
        "# Fitur\n",
        "# iloc[rows,columns] (Slicing pada dataframe)\n",
        "# Mengambil semua data dalam barisan.\n",
        "# Mengambil kolom index ke-0 sampai ke-5\n",
        "X = data.iloc[:,:6].values\n",
        "\n",
        "# Label\n",
        "# iloc[rows,columns] (Slicing pada dataframe)\n",
        "# Mengambil semua data dalam barisan.\n",
        "# Hanya Mengambil kolom index ke-6\n",
        "Y = data.iloc[:,6].values\n"
      ],
      "execution_count": null,
      "outputs": []
    },
    {
      "cell_type": "markdown",
      "metadata": {
        "id": "YCGKwPFra9Vz"
      },
      "source": [
        "## 6. Check Imbalanced Dataset, jika imbalanced, gunakan smote"
      ]
    },
    {
      "cell_type": "code",
      "metadata": {
        "colab": {
          "base_uri": "https://localhost:8080/"
        },
        "id": "9kuTEoeAX2PW",
        "outputId": "af6553d6-7efd-4f7a-b7ed-ce3d5904aa45"
      },
      "source": [
        "X = data.iloc[:,:6].values\n",
        "X"
      ],
      "execution_count": null,
      "outputs": [
        {
          "output_type": "execute_result",
          "data": {
            "text/plain": [
              "array([[6.500e+00, 1.000e+00, 1.000e+00, 2.700e+01, 1.880e+02, 2.300e+02],\n",
              "       [5.700e+00, 1.000e+00, 1.000e+00, 2.690e+01, 7.900e+01, 5.570e+02],\n",
              "       [6.000e+00, 1.000e+00, 1.000e+00, 2.700e+01, 1.100e+01, 4.910e+02],\n",
              "       ...,\n",
              "       [3.200e+00, 1.000e+00, 4.000e+00, 2.530e+01, 7.930e+02, 1.900e+01],\n",
              "       [1.400e+00, 1.000e+00, 4.000e+00, 2.540e+01, 1.052e+03, 3.000e+00],\n",
              "       [5.000e+00, 1.000e+00, 4.000e+00, 2.530e+01, 9.770e+02, 1.900e+01]])"
            ]
          },
          "metadata": {},
          "execution_count": 18
        }
      ]
    },
    {
      "cell_type": "code",
      "metadata": {
        "colab": {
          "base_uri": "https://localhost:8080/"
        },
        "id": "BEdOSA4VX2Z8",
        "outputId": "e72fc6d0-ed51-4e9e-e5c0-b8a910e5b814"
      },
      "source": [
        "Y = data.iloc[:,6].values\n",
        "Y"
      ],
      "execution_count": null,
      "outputs": [
        {
          "output_type": "execute_result",
          "data": {
            "text/plain": [
              "array([1, 1, 1, 2, 2, 3, 3, 3, 2, 3, 3, 3, 3, 3, 3, 3, 3, 1, 1, 1, 1, 3,\n",
              "       3, 3, 3, 3, 3, 3, 3, 3, 3, 3, 3, 2, 1, 1, 1, 3, 3, 2, 2, 2, 2, 2,\n",
              "       2, 2, 2, 2, 2, 2, 2, 2, 2, 2, 2, 2, 2, 2, 2, 2, 2, 2, 2, 2, 2, 2,\n",
              "       2, 2, 2, 2, 2, 2, 2, 2, 2, 2, 2, 2, 2, 2, 2, 2, 2, 2, 2, 2, 2, 2,\n",
              "       2, 2, 2, 2, 2, 2, 2, 2, 2, 2, 2, 2, 2, 2, 2, 2, 2, 2, 2, 2, 2, 2,\n",
              "       2, 2, 2, 2, 2, 2, 2, 2, 2, 2, 2, 2, 2, 2, 2, 2, 2, 2, 2, 2, 2, 2,\n",
              "       2, 2, 2, 2, 2, 2, 2, 2, 2, 2, 2, 2, 2, 2, 2, 2, 2, 2, 2, 2, 2, 2,\n",
              "       2, 2, 2, 2, 2, 2, 2, 2, 2, 2, 2, 2, 2, 2, 2, 2, 2, 2, 2, 2, 2, 2,\n",
              "       2, 2, 2, 2, 2, 2, 2, 2, 2, 2, 2, 2, 2, 2, 2, 2, 2, 2, 2, 2, 2, 2,\n",
              "       2, 2, 2, 2, 2, 2, 2, 2, 2, 2, 2, 2, 2, 2, 2, 2, 2, 2, 2, 2, 2, 2,\n",
              "       2, 2, 2, 2, 2, 2, 2, 2, 2, 2, 2, 2, 2, 2, 2, 2, 2, 2, 2, 2, 2, 2,\n",
              "       2, 2, 2, 2, 2, 2, 2, 2, 2, 2, 2, 2, 2, 2, 2, 2, 2, 2, 2, 2, 1, 1,\n",
              "       1, 1, 1, 1, 1, 1, 1, 3, 3, 3, 3, 3, 3, 3, 3, 3, 3, 3, 2, 3, 3, 3,\n",
              "       3, 3, 2, 2, 3, 3, 2, 2, 3, 3, 1, 2, 1, 1, 1, 2, 1, 2, 2, 2, 3, 3,\n",
              "       2, 2, 2, 2, 3, 3, 2, 2, 3, 2, 3, 2, 2, 2, 2, 2, 3, 3, 3, 2, 2, 2,\n",
              "       2, 1, 2, 1, 2, 1, 1, 2, 2, 3, 2, 3, 3, 2, 2, 3, 2, 3, 2, 2, 3, 2,\n",
              "       2, 2, 3, 2, 2, 2, 4, 4, 4, 4, 4, 4, 4, 4, 4, 4, 4, 4, 2, 2, 2, 2,\n",
              "       2, 2, 2, 2, 2, 2, 2, 2, 2, 2, 2, 2, 2, 2, 2, 2, 2, 2, 2, 2, 2, 2,\n",
              "       2, 2, 2, 2, 2, 2, 2, 2, 2, 2, 2, 2, 2, 2, 2, 2, 2, 2, 2, 2, 2, 2,\n",
              "       2, 2, 2, 2, 2, 2, 2, 2, 2, 2, 2, 2, 2, 2, 2, 2, 2, 2, 2, 2, 2, 2,\n",
              "       2, 2, 2, 2, 2, 2, 2, 2, 2, 2, 2, 2, 2, 2, 2, 2, 2, 2, 2, 2, 2, 2,\n",
              "       2, 2, 2, 2, 2, 2, 2, 2, 2, 2, 2, 2, 2, 2, 2, 2, 2, 2, 2, 2, 2, 2,\n",
              "       2, 2, 2, 2, 2, 2, 2, 2, 2, 2, 2, 2, 2, 2, 2, 2, 2, 2, 2, 2, 2, 2,\n",
              "       2, 2, 2, 2, 2, 2, 2, 2, 2, 2, 2, 2, 2, 2, 2, 2, 2, 2, 2, 2, 2, 2,\n",
              "       2, 2, 2, 2, 2, 2, 2, 2, 2, 2, 2, 2, 2, 2, 2, 2, 2, 2, 2, 2, 2, 2,\n",
              "       2, 2, 2, 2, 2, 2, 2, 2, 2, 2, 2, 2, 2, 2, 2, 2, 2, 2, 2, 2, 2, 3,\n",
              "       3, 3, 2, 2, 3, 1, 3, 2, 3, 3, 3, 1, 3, 3, 1, 3, 3, 3, 1, 3, 3, 1,\n",
              "       3, 1, 3, 3, 3, 3, 1, 3, 3, 1, 3, 1, 3, 3, 3, 1, 3, 3, 1, 3, 3, 3])"
            ]
          },
          "metadata": {},
          "execution_count": 19
        }
      ]
    },
    {
      "cell_type": "code",
      "metadata": {
        "id": "5YI-izdXa9V0",
        "colab": {
          "base_uri": "https://localhost:8080/"
        },
        "outputId": "d552cd23-d3cb-4dd8-cc07-9cde7744869d"
      },
      "source": [
        "pip install imbalanced-learn"
      ],
      "execution_count": null,
      "outputs": [
        {
          "output_type": "stream",
          "name": "stdout",
          "text": [
            "Requirement already satisfied: imbalanced-learn in /usr/local/lib/python3.7/dist-packages (0.4.3)\n",
            "Requirement already satisfied: numpy>=1.8.2 in /usr/local/lib/python3.7/dist-packages (from imbalanced-learn) (1.19.5)\n",
            "Requirement already satisfied: scipy>=0.13.3 in /usr/local/lib/python3.7/dist-packages (from imbalanced-learn) (1.4.1)\n",
            "Requirement already satisfied: scikit-learn>=0.20 in /usr/local/lib/python3.7/dist-packages (from imbalanced-learn) (0.22.2.post1)\n",
            "Requirement already satisfied: joblib>=0.11 in /usr/local/lib/python3.7/dist-packages (from scikit-learn>=0.20->imbalanced-learn) (1.0.1)\n"
          ]
        }
      ]
    },
    {
      "cell_type": "code",
      "metadata": {
        "id": "uzGznvnkJI2Q"
      },
      "source": [
        "from imblearn.over_sampling import SMOTE\n",
        "from collections import Counter"
      ],
      "execution_count": null,
      "outputs": []
    },
    {
      "cell_type": "code",
      "metadata": {
        "id": "DIfkA5_da9V0",
        "colab": {
          "base_uri": "https://localhost:8080/"
        },
        "outputId": "974bc40c-dd9f-43db-da8b-76db8dce3ea2"
      },
      "source": [
        "#Isi Code\n",
        "counter = Counter(Y)\n",
        "print(counter)"
      ],
      "execution_count": null,
      "outputs": [
        {
          "output_type": "stream",
          "name": "stdout",
          "text": [
            "Counter({2: 473, 3: 92, 1: 39, 4: 12})\n"
          ]
        }
      ]
    },
    {
      "cell_type": "code",
      "metadata": {
        "id": "NPCxXzq_aUyF"
      },
      "source": [
        "from imblearn.over_sampling import SMOTE\n",
        "oversample = SMOTE(k_neighbors=5)\n",
        "X_smote, Y_smote = oversample.fit_resample(X, Y)"
      ],
      "execution_count": null,
      "outputs": []
    },
    {
      "cell_type": "code",
      "metadata": {
        "colab": {
          "base_uri": "https://localhost:8080/"
        },
        "id": "DhcIMqVeeYSx",
        "outputId": "d00bfcf9-5806-4acd-88ed-55ff2e06f04d"
      },
      "source": [
        "counter = Counter(Y_smote)\n",
        "print(counter)"
      ],
      "execution_count": null,
      "outputs": [
        {
          "output_type": "stream",
          "name": "stdout",
          "text": [
            "Counter({1: 473, 2: 473, 3: 473, 4: 473})\n"
          ]
        }
      ]
    },
    {
      "cell_type": "markdown",
      "metadata": {
        "id": "2gLiWKVza9V1"
      },
      "source": [
        "## 7. Visualisasikan Data sehingga kita bisa mengetahui sebuah informasi"
      ]
    },
    {
      "cell_type": "code",
      "metadata": {
        "colab": {
          "base_uri": "https://localhost:8080/",
          "height": 248
        },
        "id": "q5ruA33vnqkG",
        "outputId": "3b6e2bdf-189d-4629-9cde-a76ce9d42669"
      },
      "source": [
        "aksi1 = (data['aksi'] == 1).sum() \n",
        "aksi2 = (data['aksi'] == 2).sum() \n",
        "aksi3 = (data['aksi'] == 3).sum() \n",
        "aksi4 = (data['aksi'] == 4).sum() \n",
        "# print(males)\n",
        "# print(females)\n",
        "p = [aksi1,aksi2,aksi3,aksi4]\n",
        "plt.pie(p,    #giving array\n",
        "        autopct='%1.1f%%',\n",
        "       labels = [\"Hidupkan Lampu dan Pompa nutrisi TDS\",\"Tidak melakukan apa-apa\",\"Hidupkan Lampu\",'Hidupkan Pompa nutrisi TDS'], #Correspndingly giving labels\n",
        "       colors = ['lightskyblue','yellowgreen','Yellow','Orange'],   # Corresponding colors\n",
        "       explode = (0,0.05,0,0.1),    #How much the gap should me there between the pies\n",
        "       startangle = 0)  #what start angle should be given\n",
        "plt.axis('equal') \n",
        "plt.show()"
      ],
      "execution_count": null,
      "outputs": [
        {
          "output_type": "display_data",
          "data": {
            "image/png": "[encoded data removed]",
            "text/plain": [
              "<Figure size 432x288 with 1 Axes>"
            ]
          },
          "metadata": {}
        }
      ]
    },
    {
      "cell_type": "markdown",
      "metadata": {
        "id": "byMOPkmra9V2"
      },
      "source": [
        "## 8. Lakukan Normalization menggunakan MinMaxScaler atau Standardization menggunakan StandarScaler"
      ]
    },
    {
      "cell_type": "code",
      "metadata": {
        "id": "i0XxulQra9V3",
        "colab": {
          "base_uri": "https://localhost:8080/"
        },
        "outputId": "8c687ccb-8d08-454e-da3e-96ec1ee7641f"
      },
      "source": [
        "#Isi Kode\n",
        "### definisikan X \n",
        "\n",
        "X = data[['PH','cahaya','intensitas_air','suhu','PPM','tinggi_air']] .values \n",
        "X[0:5]"
      ],
      "execution_count": null,
      "outputs": [
        {
          "output_type": "execute_result",
          "data": {
            "text/plain": [
              "array([[  6.5       ,   1.        ,   1.        ,  27.        ,\n",
              "        188.        , 230.        ],\n",
              "       [  5.7       ,   1.        ,   1.        ,  26.9       ,\n",
              "         79.        , 557.        ],\n",
              "       [  6.        ,   1.        ,   1.        ,  27.        ,\n",
              "         11.        , 491.        ],\n",
              "       [  6.5       ,   1.        ,   1.        ,  27.1       ,\n",
              "        345.        , 230.        ],\n",
              "       [  6.2       ,   1.48813559,   1.        ,  27.1       ,\n",
              "        602.        , 444.        ]])"
            ]
          },
          "metadata": {},
          "execution_count": 26
        }
      ]
    },
    {
      "cell_type": "code",
      "metadata": {
        "colab": {
          "base_uri": "https://localhost:8080/"
        },
        "id": "-z4I-D6HrrLZ",
        "outputId": "aee9a1a2-403a-4bdf-a07b-822eae38a6f0"
      },
      "source": [
        "### definisikan Y \n",
        "Y = data[['aksi']] .values \n",
        "Y[0:5]"
      ],
      "execution_count": null,
      "outputs": [
        {
          "output_type": "execute_result",
          "data": {
            "text/plain": [
              "array([[1],\n",
              "       [1],\n",
              "       [1],\n",
              "       [2],\n",
              "       [2]])"
            ]
          },
          "metadata": {},
          "execution_count": 27
        }
      ]
    },
    {
      "cell_type": "code",
      "metadata": {
        "id": "03elYpkXr7e-"
      },
      "source": [
        "from sklearn.preprocessing import MinMaxScaler "
      ],
      "execution_count": null,
      "outputs": []
    },
    {
      "cell_type": "code",
      "metadata": {
        "colab": {
          "base_uri": "https://localhost:8080/"
        },
        "id": "yexVns2gsU6I",
        "outputId": "11b0b00d-e0a0-419b-fdd5-3f707bf63cf9"
      },
      "source": [
        "scaler =  MinMaxScaler()\n",
        "# transform data\n",
        "X_scaled = scaler.fit_transform(X)\n",
        "print(X_scaled)"
      ],
      "execution_count": null,
      "outputs": [
        {
          "output_type": "stream",
          "name": "stdout",
          "text": [
            "[[0.46428571 0.         0.         0.96007046 0.08705773 0.3891709 ]\n",
            " [0.40714286 0.         0.         0.95977686 0.03631285 0.94247039]\n",
            " [0.42857143 0.         0.         0.96007046 0.00465549 0.83079526]\n",
            " ...\n",
            " [0.22857143 0.         1.         0.95507927 0.36871508 0.0321489 ]\n",
            " [0.1        0.         1.         0.95537287 0.48929236 0.00507614]\n",
            " [0.35714286 0.         1.         0.95507927 0.45437616 0.0321489 ]]\n"
          ]
        }
      ]
    },
    {
      "cell_type": "code",
      "metadata": {
        "colab": {
          "base_uri": "https://localhost:8080/"
        },
        "id": "iAxUaqJUtRxV",
        "outputId": "d2e2e2cd-f53e-4e39-d241-a5db1d2f3e36"
      },
      "source": [
        "X.shape"
      ],
      "execution_count": null,
      "outputs": [
        {
          "output_type": "execute_result",
          "data": {
            "text/plain": [
              "(616, 6)"
            ]
          },
          "metadata": {},
          "execution_count": 30
        }
      ]
    },
    {
      "cell_type": "code",
      "metadata": {
        "colab": {
          "base_uri": "https://localhost:8080/"
        },
        "id": "1YOGWFMpukSm",
        "outputId": "9a65f5f6-712f-404b-8546-46630c6b84d2"
      },
      "source": [
        "Y.shape"
      ],
      "execution_count": null,
      "outputs": [
        {
          "output_type": "execute_result",
          "data": {
            "text/plain": [
              "(616, 1)"
            ]
          },
          "metadata": {},
          "execution_count": 31
        }
      ]
    },
    {
      "cell_type": "markdown",
      "metadata": {
        "id": "FJpwBxZfa9V3"
      },
      "source": [
        "## 9. Buat model ANN"
      ]
    },
    {
      "cell_type": "code",
      "metadata": {
        "id": "1Zo0ODA8a9V4"
      },
      "source": [
        "#Isi Code\n",
        "import tensorflow as tf\n",
        "from tensorflow import keras\n",
        "from tensorflow.keras import Sequential \n",
        "from tensorflow.keras.layers import Dense\n",
        "from tensorflow.keras.layers import Dropout\n",
        "from tensorflow.keras.layers import BatchNormalization\n"
      ],
      "execution_count": null,
      "outputs": []
    },
    {
      "cell_type": "code",
      "metadata": {
        "colab": {
          "base_uri": "https://localhost:8080/"
        },
        "id": "n3AZuOJs8jP8",
        "outputId": "c329debf-3a02-4e1e-cc46-562d467f0660"
      },
      "source": [
        "from sklearn.model_selection import train_test_split\n",
        "X_train, X_test, Y_train, Y_test = train_test_split( X, Y, test_size=0.1, random_state=4)\n",
        "print ('Train set:', X_train.shape,  Y_train.shape)\n",
        "print ('Test set:', X_test.shape,  Y_test.shape)"
      ],
      "execution_count": null,
      "outputs": [
        {
          "output_type": "stream",
          "name": "stdout",
          "text": [
            "Train set: (554, 6) (554, 1)\n",
            "Test set: (62, 6) (62, 1)\n"
          ]
        }
      ]
    },
    {
      "cell_type": "code",
      "metadata": {
        "colab": {
          "base_uri": "https://localhost:8080/"
        },
        "id": "nwKt3ZQiuZ5B",
        "outputId": "f426c9c8-2473-47a4-bd7b-9bafc2d8c4c5"
      },
      "source": [
        "model = Sequential()\n",
        "model.add(Dense(16, input_shape=(6,)))\n",
        "model.add(Dense(16, activation = 'relu'))\n",
        "model.add(Dense(32, activation = 'relu'))\n",
        "model.add(Dense(32, activation = 'relu'))\n",
        "model.add(Dense(32, activation = 'relu'))\n",
        "model.add(Dense(16, activation = 'sigmoid'))\n",
        "\n",
        "model.summary()"
      ],
      "execution_count": null,
      "outputs": [
        {
          "output_type": "stream",
          "name": "stdout",
          "text": [
            "Model: \"sequential\"\n",
            "_________________________________________________________________\n",
            "Layer (type)                 Output Shape              Param #   \n",
            "=================================================================\n",
            "dense (Dense)                (None, 16)                112       \n",
            "_________________________________________________________________\n",
            "dense_1 (Dense)              (None, 16)                272       \n",
            "_________________________________________________________________\n",
            "dense_2 (Dense)              (None, 32)                544       \n",
            "_________________________________________________________________\n",
            "dense_3 (Dense)              (None, 32)                1056      \n",
            "_________________________________________________________________\n",
            "dense_4 (Dense)              (None, 32)                1056      \n",
            "_________________________________________________________________\n",
            "dense_5 (Dense)              (None, 16)                528       \n",
            "=================================================================\n",
            "Total params: 3,568\n",
            "Trainable params: 3,568\n",
            "Non-trainable params: 0\n",
            "_________________________________________________________________\n"
          ]
        }
      ]
    },
    {
      "cell_type": "markdown",
      "metadata": {
        "id": "4rIRCuVIH0HJ"
      },
      "source": [
        "Compile Model"
      ]
    },
    {
      "cell_type": "code",
      "metadata": {
        "id": "-1Y4C62NHzfv"
      },
      "source": [
        "model.compile(optimizer='adam',loss='sparse_categorical_crossentropy', metrics=['accuracy'])"
      ],
      "execution_count": null,
      "outputs": []
    },
    {
      "cell_type": "markdown",
      "metadata": {
        "id": "fsmTAxcvH5gb"
      },
      "source": [
        "Fit Model "
      ]
    },
    {
      "cell_type": "code",
      "metadata": {
        "colab": {
          "base_uri": "https://localhost:8080/"
        },
        "id": "65BQK8AYH8HJ",
        "outputId": "f770d108-fa0b-4b27-986c-e9921c855c4e"
      },
      "source": [
        "# isi code\n",
        "history = model.fit(X_train, Y_train, epochs = 150, batch_size=100, verbose=2, validation_split=0.33)\n"
      ],
      "execution_count": null,
      "outputs": [
        {
          "output_type": "stream",
          "name": "stdout",
          "text": [
            "Epoch 1/150\n",
            "4/4 - 1s - loss: 39.3539 - accuracy: 0.0000e+00 - val_loss: 13.1345 - val_accuracy: 0.6284\n",
            "Epoch 2/150\n",
            "4/4 - 0s - loss: 13.3114 - accuracy: 0.6819 - val_loss: 10.0296 - val_accuracy: 0.7486\n",
            "Epoch 3/150\n",
            "4/4 - 0s - loss: 8.6633 - accuracy: 0.7493 - val_loss: 3.8776 - val_accuracy: 0.6667\n",
            "Epoch 4/150\n",
            "4/4 - 0s - loss: 5.2415 - accuracy: 0.6038 - val_loss: 5.2766 - val_accuracy: 0.5301\n",
            "Epoch 5/150\n",
            "4/4 - 0s - loss: 3.9014 - accuracy: 0.6927 - val_loss: 4.2420 - val_accuracy: 0.7268\n",
            "Epoch 6/150\n",
            "4/4 - 0s - loss: 4.4703 - accuracy: 0.7332 - val_loss: 3.0421 - val_accuracy: 0.6940\n",
            "Epoch 7/150\n",
            "4/4 - 0s - loss: 3.3323 - accuracy: 0.5768 - val_loss: 3.1672 - val_accuracy: 0.4973\n",
            "Epoch 8/150\n",
            "4/4 - 0s - loss: 2.4750 - accuracy: 0.6415 - val_loss: 2.6425 - val_accuracy: 0.7213\n",
            "Epoch 9/150\n",
            "4/4 - 0s - loss: 2.3927 - accuracy: 0.7278 - val_loss: 2.0959 - val_accuracy: 0.5902\n",
            "Epoch 10/150\n",
            "4/4 - 0s - loss: 2.0454 - accuracy: 0.6226 - val_loss: 1.7394 - val_accuracy: 0.7541\n",
            "Epoch 11/150\n",
            "4/4 - 0s - loss: 1.8314 - accuracy: 0.7628 - val_loss: 1.5816 - val_accuracy: 0.7650\n",
            "Epoch 12/150\n",
            "4/4 - 0s - loss: 1.6558 - accuracy: 0.6846 - val_loss: 1.5030 - val_accuracy: 0.7650\n",
            "Epoch 13/150\n",
            "4/4 - 0s - loss: 1.5396 - accuracy: 0.7520 - val_loss: 1.4496 - val_accuracy: 0.7814\n",
            "Epoch 14/150\n",
            "4/4 - 0s - loss: 1.3800 - accuracy: 0.7035 - val_loss: 1.3543 - val_accuracy: 0.6940\n",
            "Epoch 15/150\n",
            "4/4 - 0s - loss: 1.2300 - accuracy: 0.7170 - val_loss: 1.2308 - val_accuracy: 0.7596\n",
            "Epoch 16/150\n",
            "4/4 - 0s - loss: 1.1673 - accuracy: 0.6981 - val_loss: 1.1479 - val_accuracy: 0.7705\n",
            "Epoch 17/150\n",
            "4/4 - 0s - loss: 1.0794 - accuracy: 0.7197 - val_loss: 1.1108 - val_accuracy: 0.7322\n",
            "Epoch 18/150\n",
            "4/4 - 0s - loss: 1.0410 - accuracy: 0.7035 - val_loss: 1.0253 - val_accuracy: 0.7705\n",
            "Epoch 19/150\n",
            "4/4 - 0s - loss: 0.9940 - accuracy: 0.7251 - val_loss: 1.0011 - val_accuracy: 0.7705\n",
            "Epoch 20/150\n",
            "4/4 - 0s - loss: 0.9684 - accuracy: 0.7305 - val_loss: 1.0597 - val_accuracy: 0.7650\n",
            "Epoch 21/150\n",
            "4/4 - 0s - loss: 1.1223 - accuracy: 0.7385 - val_loss: 1.0120 - val_accuracy: 0.6831\n",
            "Epoch 22/150\n",
            "4/4 - 0s - loss: 1.0700 - accuracy: 0.7385 - val_loss: 0.9151 - val_accuracy: 0.7158\n",
            "Epoch 23/150\n",
            "4/4 - 0s - loss: 0.8642 - accuracy: 0.7493 - val_loss: 1.0025 - val_accuracy: 0.7432\n",
            "Epoch 24/150\n",
            "4/4 - 0s - loss: 0.8426 - accuracy: 0.7547 - val_loss: 0.9351 - val_accuracy: 0.7213\n",
            "Epoch 25/150\n",
            "4/4 - 0s - loss: 0.8234 - accuracy: 0.7601 - val_loss: 0.9403 - val_accuracy: 0.7377\n",
            "Epoch 26/150\n",
            "4/4 - 0s - loss: 0.8000 - accuracy: 0.7682 - val_loss: 0.9644 - val_accuracy: 0.7268\n",
            "Epoch 27/150\n",
            "4/4 - 0s - loss: 0.7849 - accuracy: 0.7601 - val_loss: 1.0184 - val_accuracy: 0.6503\n",
            "Epoch 28/150\n",
            "4/4 - 0s - loss: 0.8473 - accuracy: 0.7790 - val_loss: 0.8810 - val_accuracy: 0.7432\n",
            "Epoch 29/150\n",
            "4/4 - 0s - loss: 0.8210 - accuracy: 0.7385 - val_loss: 0.9462 - val_accuracy: 0.7596\n",
            "Epoch 30/150\n",
            "4/4 - 0s - loss: 0.7888 - accuracy: 0.7817 - val_loss: 0.9097 - val_accuracy: 0.7049\n",
            "Epoch 31/150\n",
            "4/4 - 0s - loss: 0.8018 - accuracy: 0.7817 - val_loss: 0.8245 - val_accuracy: 0.7596\n",
            "Epoch 32/150\n",
            "4/4 - 0s - loss: 0.8136 - accuracy: 0.7332 - val_loss: 1.2451 - val_accuracy: 0.7596\n",
            "Epoch 33/150\n",
            "4/4 - 0s - loss: 1.1036 - accuracy: 0.7763 - val_loss: 1.5295 - val_accuracy: 0.5301\n",
            "Epoch 34/150\n",
            "4/4 - 0s - loss: 1.0143 - accuracy: 0.7035 - val_loss: 1.0399 - val_accuracy: 0.7650\n",
            "Epoch 35/150\n",
            "4/4 - 0s - loss: 0.8761 - accuracy: 0.7466 - val_loss: 0.8303 - val_accuracy: 0.7596\n",
            "Epoch 36/150\n",
            "4/4 - 0s - loss: 0.7381 - accuracy: 0.7790 - val_loss: 0.9195 - val_accuracy: 0.7158\n",
            "Epoch 37/150\n",
            "4/4 - 0s - loss: 0.7321 - accuracy: 0.7547 - val_loss: 0.8570 - val_accuracy: 0.6831\n",
            "Epoch 38/150\n",
            "4/4 - 0s - loss: 0.6762 - accuracy: 0.7628 - val_loss: 0.8137 - val_accuracy: 0.7596\n",
            "Epoch 39/150\n",
            "4/4 - 0s - loss: 0.6841 - accuracy: 0.7682 - val_loss: 0.8253 - val_accuracy: 0.7650\n",
            "Epoch 40/150\n",
            "4/4 - 0s - loss: 0.7296 - accuracy: 0.7763 - val_loss: 0.8915 - val_accuracy: 0.6940\n",
            "Epoch 41/150\n",
            "4/4 - 0s - loss: 0.6829 - accuracy: 0.7709 - val_loss: 0.8137 - val_accuracy: 0.7268\n",
            "Epoch 42/150\n",
            "4/4 - 0s - loss: 0.6470 - accuracy: 0.7736 - val_loss: 0.8823 - val_accuracy: 0.6776\n",
            "Epoch 43/150\n",
            "4/4 - 0s - loss: 0.6440 - accuracy: 0.7817 - val_loss: 0.8446 - val_accuracy: 0.6995\n",
            "Epoch 44/150\n",
            "4/4 - 0s - loss: 0.6376 - accuracy: 0.7817 - val_loss: 0.8887 - val_accuracy: 0.7158\n",
            "Epoch 45/150\n",
            "4/4 - 0s - loss: 0.7223 - accuracy: 0.7790 - val_loss: 0.8463 - val_accuracy: 0.7650\n",
            "Epoch 46/150\n",
            "4/4 - 0s - loss: 0.6752 - accuracy: 0.7709 - val_loss: 0.9544 - val_accuracy: 0.7650\n",
            "Epoch 47/150\n",
            "4/4 - 0s - loss: 0.7564 - accuracy: 0.7763 - val_loss: 0.8888 - val_accuracy: 0.7104\n",
            "Epoch 48/150\n",
            "4/4 - 0s - loss: 0.6336 - accuracy: 0.7898 - val_loss: 0.9025 - val_accuracy: 0.7049\n",
            "Epoch 49/150\n",
            "4/4 - 0s - loss: 0.6374 - accuracy: 0.7763 - val_loss: 0.7908 - val_accuracy: 0.7377\n",
            "Epoch 50/150\n",
            "4/4 - 0s - loss: 0.5793 - accuracy: 0.7736 - val_loss: 0.8027 - val_accuracy: 0.7650\n",
            "Epoch 51/150\n",
            "4/4 - 0s - loss: 0.5827 - accuracy: 0.7978 - val_loss: 0.8927 - val_accuracy: 0.6776\n",
            "Epoch 52/150\n",
            "4/4 - 0s - loss: 0.6010 - accuracy: 0.7951 - val_loss: 0.8516 - val_accuracy: 0.7049\n",
            "Epoch 53/150\n",
            "4/4 - 0s - loss: 0.6344 - accuracy: 0.7763 - val_loss: 0.8016 - val_accuracy: 0.7322\n",
            "Epoch 54/150\n",
            "4/4 - 0s - loss: 0.5607 - accuracy: 0.7736 - val_loss: 0.7955 - val_accuracy: 0.7486\n",
            "Epoch 55/150\n",
            "4/4 - 0s - loss: 0.5802 - accuracy: 0.7790 - val_loss: 0.8089 - val_accuracy: 0.7158\n",
            "Epoch 56/150\n",
            "4/4 - 0s - loss: 0.5850 - accuracy: 0.8059 - val_loss: 0.8106 - val_accuracy: 0.7322\n",
            "Epoch 57/150\n",
            "4/4 - 0s - loss: 0.5909 - accuracy: 0.7844 - val_loss: 0.8754 - val_accuracy: 0.7705\n",
            "Epoch 58/150\n",
            "4/4 - 0s - loss: 0.5919 - accuracy: 0.7844 - val_loss: 0.7912 - val_accuracy: 0.7104\n",
            "Epoch 59/150\n",
            "4/4 - 0s - loss: 0.5584 - accuracy: 0.7763 - val_loss: 0.8160 - val_accuracy: 0.7650\n",
            "Epoch 60/150\n",
            "4/4 - 0s - loss: 0.5584 - accuracy: 0.7817 - val_loss: 0.8676 - val_accuracy: 0.7049\n",
            "Epoch 61/150\n",
            "4/4 - 0s - loss: 0.5553 - accuracy: 0.8005 - val_loss: 0.8035 - val_accuracy: 0.7377\n",
            "Epoch 62/150\n",
            "4/4 - 0s - loss: 0.5712 - accuracy: 0.7736 - val_loss: 0.7825 - val_accuracy: 0.7486\n",
            "Epoch 63/150\n",
            "4/4 - 0s - loss: 0.5381 - accuracy: 0.7844 - val_loss: 0.7941 - val_accuracy: 0.7432\n",
            "Epoch 64/150\n",
            "4/4 - 0s - loss: 0.5261 - accuracy: 0.7655 - val_loss: 0.8004 - val_accuracy: 0.7213\n",
            "Epoch 65/150\n",
            "4/4 - 0s - loss: 0.5397 - accuracy: 0.7871 - val_loss: 0.9510 - val_accuracy: 0.6721\n",
            "Epoch 66/150\n",
            "4/4 - 0s - loss: 0.6750 - accuracy: 0.7763 - val_loss: 0.8689 - val_accuracy: 0.7650\n",
            "Epoch 67/150\n",
            "4/4 - 0s - loss: 0.6620 - accuracy: 0.7385 - val_loss: 0.9544 - val_accuracy: 0.7650\n",
            "Epoch 68/150\n",
            "4/4 - 0s - loss: 0.7784 - accuracy: 0.7224 - val_loss: 0.8594 - val_accuracy: 0.7650\n",
            "Epoch 69/150\n",
            "4/4 - 0s - loss: 0.7933 - accuracy: 0.7925 - val_loss: 1.0739 - val_accuracy: 0.6393\n",
            "Epoch 70/150\n",
            "4/4 - 0s - loss: 0.6049 - accuracy: 0.7844 - val_loss: 0.8936 - val_accuracy: 0.7705\n",
            "Epoch 71/150\n",
            "4/4 - 0s - loss: 0.6280 - accuracy: 0.7493 - val_loss: 0.8737 - val_accuracy: 0.7650\n",
            "Epoch 72/150\n",
            "4/4 - 0s - loss: 0.6193 - accuracy: 0.7628 - val_loss: 0.8231 - val_accuracy: 0.7268\n",
            "Epoch 73/150\n",
            "4/4 - 0s - loss: 0.5282 - accuracy: 0.7736 - val_loss: 0.8182 - val_accuracy: 0.7596\n",
            "Epoch 74/150\n",
            "4/4 - 0s - loss: 0.5380 - accuracy: 0.7925 - val_loss: 0.8170 - val_accuracy: 0.6885\n",
            "Epoch 75/150\n",
            "4/4 - 0s - loss: 0.5257 - accuracy: 0.7951 - val_loss: 1.0005 - val_accuracy: 0.6557\n",
            "Epoch 76/150\n",
            "4/4 - 0s - loss: 0.5303 - accuracy: 0.7871 - val_loss: 0.8569 - val_accuracy: 0.7650\n",
            "Epoch 77/150\n",
            "4/4 - 0s - loss: 0.6090 - accuracy: 0.7601 - val_loss: 0.8728 - val_accuracy: 0.7650\n",
            "Epoch 78/150\n",
            "4/4 - 0s - loss: 0.5226 - accuracy: 0.8005 - val_loss: 0.7959 - val_accuracy: 0.7432\n",
            "Epoch 79/150\n",
            "4/4 - 0s - loss: 0.5106 - accuracy: 0.7978 - val_loss: 0.8226 - val_accuracy: 0.7104\n",
            "Epoch 80/150\n",
            "4/4 - 0s - loss: 0.5145 - accuracy: 0.7978 - val_loss: 0.8786 - val_accuracy: 0.6885\n",
            "Epoch 81/150\n",
            "4/4 - 0s - loss: 0.4807 - accuracy: 0.8059 - val_loss: 0.8915 - val_accuracy: 0.7650\n",
            "Epoch 82/150\n",
            "4/4 - 0s - loss: 0.5524 - accuracy: 0.7844 - val_loss: 0.7935 - val_accuracy: 0.7049\n",
            "Epoch 83/150\n",
            "4/4 - 0s - loss: 0.5236 - accuracy: 0.7951 - val_loss: 1.0571 - val_accuracy: 0.6284\n",
            "Epoch 84/150\n",
            "4/4 - 0s - loss: 0.5996 - accuracy: 0.7682 - val_loss: 0.7605 - val_accuracy: 0.7322\n",
            "Epoch 85/150\n",
            "4/4 - 0s - loss: 0.5350 - accuracy: 0.7682 - val_loss: 0.8144 - val_accuracy: 0.7650\n",
            "Epoch 86/150\n",
            "4/4 - 0s - loss: 0.5192 - accuracy: 0.7898 - val_loss: 0.7728 - val_accuracy: 0.7596\n",
            "Epoch 87/150\n",
            "4/4 - 0s - loss: 0.5276 - accuracy: 0.8032 - val_loss: 1.2950 - val_accuracy: 0.5574\n",
            "Epoch 88/150\n",
            "4/4 - 0s - loss: 0.8303 - accuracy: 0.7278 - val_loss: 0.8280 - val_accuracy: 0.7650\n",
            "Epoch 89/150\n",
            "4/4 - 0s - loss: 0.6547 - accuracy: 0.7574 - val_loss: 0.9851 - val_accuracy: 0.7650\n",
            "Epoch 90/150\n",
            "4/4 - 0s - loss: 0.6398 - accuracy: 0.7978 - val_loss: 0.7965 - val_accuracy: 0.6995\n",
            "Epoch 91/150\n",
            "4/4 - 0s - loss: 0.5964 - accuracy: 0.7844 - val_loss: 0.9565 - val_accuracy: 0.6776\n",
            "Epoch 92/150\n",
            "4/4 - 0s - loss: 0.5252 - accuracy: 0.7925 - val_loss: 0.7956 - val_accuracy: 0.7596\n",
            "Epoch 93/150\n",
            "4/4 - 0s - loss: 0.5551 - accuracy: 0.7682 - val_loss: 0.8335 - val_accuracy: 0.7705\n",
            "Epoch 94/150\n",
            "4/4 - 0s - loss: 0.5565 - accuracy: 0.7655 - val_loss: 0.8007 - val_accuracy: 0.7596\n",
            "Epoch 95/150\n",
            "4/4 - 0s - loss: 0.5089 - accuracy: 0.7978 - val_loss: 0.7846 - val_accuracy: 0.6940\n",
            "Epoch 96/150\n",
            "4/4 - 0s - loss: 0.4899 - accuracy: 0.7871 - val_loss: 0.9495 - val_accuracy: 0.6995\n",
            "Epoch 97/150\n",
            "4/4 - 0s - loss: 0.6371 - accuracy: 0.7655 - val_loss: 0.9237 - val_accuracy: 0.7650\n",
            "Epoch 98/150\n",
            "4/4 - 0s - loss: 0.5659 - accuracy: 0.7763 - val_loss: 0.7928 - val_accuracy: 0.7596\n",
            "Epoch 99/150\n",
            "4/4 - 0s - loss: 0.5226 - accuracy: 0.7898 - val_loss: 0.7787 - val_accuracy: 0.6995\n",
            "Epoch 100/150\n",
            "4/4 - 0s - loss: 0.4756 - accuracy: 0.7951 - val_loss: 0.7815 - val_accuracy: 0.7104\n",
            "Epoch 101/150\n",
            "4/4 - 0s - loss: 0.4679 - accuracy: 0.7898 - val_loss: 0.7778 - val_accuracy: 0.7596\n",
            "Epoch 102/150\n",
            "4/4 - 0s - loss: 0.5543 - accuracy: 0.7628 - val_loss: 0.8152 - val_accuracy: 0.7650\n",
            "Epoch 103/150\n",
            "4/4 - 0s - loss: 0.6125 - accuracy: 0.7925 - val_loss: 0.8873 - val_accuracy: 0.6885\n",
            "Epoch 104/150\n",
            "4/4 - 0s - loss: 0.5079 - accuracy: 0.8005 - val_loss: 0.7608 - val_accuracy: 0.7322\n",
            "Epoch 105/150\n",
            "4/4 - 0s - loss: 0.5277 - accuracy: 0.7790 - val_loss: 0.9118 - val_accuracy: 0.7596\n",
            "Epoch 106/150\n",
            "4/4 - 0s - loss: 0.6214 - accuracy: 0.7682 - val_loss: 0.7536 - val_accuracy: 0.7268\n",
            "Epoch 107/150\n",
            "4/4 - 0s - loss: 0.5554 - accuracy: 0.7898 - val_loss: 0.8215 - val_accuracy: 0.6940\n",
            "Epoch 108/150\n",
            "4/4 - 0s - loss: 0.5611 - accuracy: 0.7817 - val_loss: 1.0259 - val_accuracy: 0.6175\n",
            "Epoch 109/150\n",
            "4/4 - 0s - loss: 0.5518 - accuracy: 0.7736 - val_loss: 0.8645 - val_accuracy: 0.6612\n",
            "Epoch 110/150\n",
            "4/4 - 0s - loss: 0.5001 - accuracy: 0.7817 - val_loss: 0.8481 - val_accuracy: 0.6667\n",
            "Epoch 111/150\n",
            "4/4 - 0s - loss: 0.4987 - accuracy: 0.7790 - val_loss: 0.8347 - val_accuracy: 0.6667\n",
            "Epoch 112/150\n",
            "4/4 - 0s - loss: 0.4924 - accuracy: 0.7736 - val_loss: 0.8760 - val_accuracy: 0.6503\n",
            "Epoch 113/150\n",
            "4/4 - 0s - loss: 0.5165 - accuracy: 0.7898 - val_loss: 0.7848 - val_accuracy: 0.6995\n",
            "Epoch 114/150\n",
            "4/4 - 0s - loss: 0.5368 - accuracy: 0.7655 - val_loss: 0.9270 - val_accuracy: 0.7705\n",
            "Epoch 115/150\n",
            "4/4 - 0s - loss: 0.5547 - accuracy: 0.7736 - val_loss: 0.7769 - val_accuracy: 0.7158\n",
            "Epoch 116/150\n",
            "4/4 - 0s - loss: 0.5219 - accuracy: 0.8032 - val_loss: 1.0272 - val_accuracy: 0.6393\n",
            "Epoch 117/150\n",
            "4/4 - 0s - loss: 0.5655 - accuracy: 0.7844 - val_loss: 0.7879 - val_accuracy: 0.7322\n",
            "Epoch 118/150\n",
            "4/4 - 0s - loss: 0.4727 - accuracy: 0.7790 - val_loss: 0.7927 - val_accuracy: 0.7596\n",
            "Epoch 119/150\n",
            "4/4 - 0s - loss: 0.4757 - accuracy: 0.8005 - val_loss: 0.8060 - val_accuracy: 0.7432\n",
            "Epoch 120/150\n",
            "4/4 - 0s - loss: 0.5082 - accuracy: 0.7978 - val_loss: 1.2573 - val_accuracy: 0.6011\n",
            "Epoch 121/150\n",
            "4/4 - 0s - loss: 0.6052 - accuracy: 0.7763 - val_loss: 0.8976 - val_accuracy: 0.7650\n",
            "Epoch 122/150\n",
            "4/4 - 0s - loss: 0.6209 - accuracy: 0.7466 - val_loss: 0.8678 - val_accuracy: 0.7596\n",
            "Epoch 123/150\n",
            "4/4 - 0s - loss: 0.5370 - accuracy: 0.7925 - val_loss: 1.0438 - val_accuracy: 0.6339\n",
            "Epoch 124/150\n",
            "4/4 - 0s - loss: 0.5551 - accuracy: 0.7601 - val_loss: 0.8501 - val_accuracy: 0.6776\n",
            "Epoch 125/150\n",
            "4/4 - 0s - loss: 0.4726 - accuracy: 0.7871 - val_loss: 0.7766 - val_accuracy: 0.7432\n",
            "Epoch 126/150\n",
            "4/4 - 0s - loss: 0.4818 - accuracy: 0.7763 - val_loss: 0.8101 - val_accuracy: 0.7432\n",
            "Epoch 127/150\n",
            "4/4 - 0s - loss: 0.4990 - accuracy: 0.7925 - val_loss: 0.8771 - val_accuracy: 0.6940\n",
            "Epoch 128/150\n",
            "4/4 - 0s - loss: 0.4800 - accuracy: 0.8005 - val_loss: 0.8284 - val_accuracy: 0.6776\n",
            "Epoch 129/150\n",
            "4/4 - 0s - loss: 0.4670 - accuracy: 0.7925 - val_loss: 0.7794 - val_accuracy: 0.7322\n",
            "Epoch 130/150\n",
            "4/4 - 0s - loss: 0.4469 - accuracy: 0.7871 - val_loss: 0.7919 - val_accuracy: 0.7432\n",
            "Epoch 131/150\n",
            "4/4 - 0s - loss: 0.4450 - accuracy: 0.8032 - val_loss: 0.7692 - val_accuracy: 0.7377\n",
            "Epoch 132/150\n",
            "4/4 - 0s - loss: 0.4557 - accuracy: 0.7978 - val_loss: 0.7999 - val_accuracy: 0.6995\n",
            "Epoch 133/150\n",
            "4/4 - 0s - loss: 0.4444 - accuracy: 0.7844 - val_loss: 0.7907 - val_accuracy: 0.7486\n",
            "Epoch 134/150\n",
            "4/4 - 0s - loss: 0.4952 - accuracy: 0.7978 - val_loss: 0.8161 - val_accuracy: 0.7596\n",
            "Epoch 135/150\n",
            "4/4 - 0s - loss: 0.5074 - accuracy: 0.7978 - val_loss: 0.9973 - val_accuracy: 0.6448\n",
            "Epoch 136/150\n",
            "4/4 - 0s - loss: 0.5705 - accuracy: 0.7736 - val_loss: 0.8313 - val_accuracy: 0.6776\n",
            "Epoch 137/150\n",
            "4/4 - 0s - loss: 0.5333 - accuracy: 0.7709 - val_loss: 1.0790 - val_accuracy: 0.7650\n",
            "Epoch 138/150\n",
            "4/4 - 0s - loss: 0.6791 - accuracy: 0.7951 - val_loss: 1.0564 - val_accuracy: 0.6339\n",
            "Epoch 139/150\n",
            "4/4 - 0s - loss: 0.6364 - accuracy: 0.7790 - val_loss: 0.8002 - val_accuracy: 0.7268\n",
            "Epoch 140/150\n",
            "4/4 - 0s - loss: 0.6808 - accuracy: 0.7439 - val_loss: 1.0767 - val_accuracy: 0.7596\n",
            "Epoch 141/150\n",
            "4/4 - 0s - loss: 0.6172 - accuracy: 0.7790 - val_loss: 0.9166 - val_accuracy: 0.6776\n",
            "Epoch 142/150\n",
            "4/4 - 0s - loss: 0.5343 - accuracy: 0.7951 - val_loss: 0.8345 - val_accuracy: 0.6995\n",
            "Epoch 143/150\n",
            "4/4 - 0s - loss: 0.4508 - accuracy: 0.7925 - val_loss: 0.8556 - val_accuracy: 0.7596\n",
            "Epoch 144/150\n",
            "4/4 - 0s - loss: 0.4694 - accuracy: 0.8005 - val_loss: 0.8337 - val_accuracy: 0.7486\n",
            "Epoch 145/150\n",
            "4/4 - 0s - loss: 0.4698 - accuracy: 0.8005 - val_loss: 0.8266 - val_accuracy: 0.7158\n",
            "Epoch 146/150\n",
            "4/4 - 0s - loss: 0.4458 - accuracy: 0.7925 - val_loss: 0.8014 - val_accuracy: 0.7049\n",
            "Epoch 147/150\n",
            "4/4 - 0s - loss: 0.4932 - accuracy: 0.7790 - val_loss: 0.9242 - val_accuracy: 0.6721\n",
            "Epoch 148/150\n",
            "4/4 - 0s - loss: 0.5703 - accuracy: 0.7817 - val_loss: 0.8466 - val_accuracy: 0.7377\n",
            "Epoch 149/150\n",
            "4/4 - 0s - loss: 0.4553 - accuracy: 0.7898 - val_loss: 0.8196 - val_accuracy: 0.7432\n",
            "Epoch 150/150\n",
            "4/4 - 0s - loss: 0.4493 - accuracy: 0.7951 - val_loss: 0.9032 - val_accuracy: 0.6940\n"
          ]
        }
      ]
    },
    {
      "cell_type": "markdown",
      "metadata": {
        "id": "-X7Ixs_ZdfwZ"
      },
      "source": [
        "Save model"
      ]
    },
    {
      "cell_type": "code",
      "metadata": {
        "id": "ZY72x2XEdKEe"
      },
      "source": [
        "from keras.models import save_model, load_model"
      ],
      "execution_count": null,
      "outputs": []
    },
    {
      "cell_type": "code",
      "metadata": {
        "id": "7Bxuj27WclrN"
      },
      "source": [
        "model.save('model.h5')"
      ],
      "execution_count": null,
      "outputs": []
    },
    {
      "cell_type": "markdown",
      "metadata": {
        "id": "-hKaG0yhVAC5"
      },
      "source": [
        " Plot Learning Curves"
      ]
    },
    {
      "cell_type": "code",
      "metadata": {
        "colab": {
          "base_uri": "https://localhost:8080/",
          "height": 295
        },
        "id": "koWI68TnXxmz",
        "outputId": "a80d8f1e-3aa3-41e5-9069-5d4bffb1a48e"
      },
      "source": [
        "plt.plot(history.history['loss'])\n",
        "plt.plot(history.history['val_loss'])\n",
        "plt.title('Learning Curves')\n",
        "plt.xlabel('Epoch')\n",
        "plt.ylabel('Loss function') \n",
        "plt.legend(['train', 'test'], loc='upper rights')\n",
        "plt.show()"
      ],
      "execution_count": null,
      "outputs": [
        {
          "output_type": "display_data",
          "data": {
            "image/png": "[encoded data removed]",
            "text/plain": [
              "<Figure size 432x288 with 1 Axes>"
            ]
          },
          "metadata": {
            "needs_background": "light"
          }
        }
      ]
    },
    {
      "cell_type": "code",
      "metadata": {
        "colab": {
          "base_uri": "https://localhost:8080/",
          "height": 295
        },
        "id": "cFtTwGiD_d3J",
        "outputId": "731fc78f-9fd0-4159-e552-14bc73d86cf5"
      },
      "source": [
        "plt.plot(history.history['accuracy'])\n",
        "plt.plot(history.history['val_accuracy'])\n",
        "plt.title('model accuracy')\n",
        "plt.ylabel('accuracy')\n",
        "plt.xlabel('epoch')\n",
        "plt.legend(['train', 'test'], loc='upper left')\n",
        "plt.show()"
      ],
      "execution_count": null,
      "outputs": [
        {
          "output_type": "display_data",
          "data": {
            "image/png": "[encoded data removed]",
            "text/plain": [
              "<Figure size 432x288 with 1 Axes>"
            ]
          },
          "metadata": {
            "needs_background": "light"
          }
        }
      ]
    },
    {
      "cell_type": "markdown",
      "metadata": {
        "id": "ZVuY2QdwW6dO"
      },
      "source": [
        "## 10. Build Model KNN"
      ]
    },
    {
      "cell_type": "code",
      "metadata": {
        "id": "gleXhh_XbFPX"
      },
      "source": [
        "from sklearn.neighbors import KNeighborsClassifier"
      ],
      "execution_count": null,
      "outputs": []
    },
    {
      "cell_type": "code",
      "metadata": {
        "id": "Dks_OpdeW9fY",
        "colab": {
          "base_uri": "https://localhost:8080/"
        },
        "outputId": "c5fb70ff-4225-4cd2-b609-b32d71f7fb3b"
      },
      "source": [
        "k= 3\n",
        "knn = KNeighborsClassifier(n_neighbors = k).fit(X_train,Y_train)\n",
        "knn"
      ],
      "execution_count": null,
      "outputs": [
        {
          "output_type": "execute_result",
          "data": {
            "text/plain": [
              "KNeighborsClassifier(algorithm='auto', leaf_size=30, metric='minkowski',\n",
              "                     metric_params=None, n_jobs=None, n_neighbors=3, p=2,\n",
              "                     weights='uniform')"
            ]
          },
          "metadata": {},
          "execution_count": 42
        }
      ]
    },
    {
      "cell_type": "code",
      "metadata": {
        "colab": {
          "base_uri": "https://localhost:8080/"
        },
        "id": "-N80jR7obMWF",
        "outputId": "94688eab-92d9-448b-c3e7-f5664ec62bff"
      },
      "source": [
        "yhat = knn.predict(X_test)\n",
        "yhat[0:10]"
      ],
      "execution_count": null,
      "outputs": [
        {
          "output_type": "execute_result",
          "data": {
            "text/plain": [
              "array([2, 3, 2, 2, 2, 2, 2, 3, 2, 2])"
            ]
          },
          "metadata": {},
          "execution_count": 43
        }
      ]
    },
    {
      "cell_type": "code",
      "metadata": {
        "colab": {
          "base_uri": "https://localhost:8080/"
        },
        "id": "zTy7L_4HbZac",
        "outputId": "1bdafb7e-6319-4e47-b1d4-c4a3357c6f35"
      },
      "source": [
        "print(\"Test set Accuracy: \", metrics.accuracy_score(Y_test, yhat))"
      ],
      "execution_count": null,
      "outputs": [
        {
          "output_type": "stream",
          "name": "stdout",
          "text": [
            "Test set Accuracy:  0.6935483870967742\n"
          ]
        }
      ]
    },
    {
      "cell_type": "code",
      "metadata": {
        "colab": {
          "base_uri": "https://localhost:8080/"
        },
        "id": "vFbC3CLJbiyW",
        "outputId": "73b08dd9-9d81-4d30-ec50-6332fdf7ddba"
      },
      "source": [
        "Ks = 10\n",
        "mean_acc = np.zeros((Ks))\n",
        "\n",
        "for n in range(1,Ks+1):\n",
        "    \n",
        "    #Train Model and Predict  \n",
        "    neigh = KNeighborsClassifier(n_neighbors = n).fit(X_train,Y_train) \n",
        "    yhat=neigh.predict(X_test) \n",
        "    mean_acc[n-1] = metrics.accuracy_score(Y_test, yhat)\n",
        "\n",
        "mean_acc"
      ],
      "execution_count": null,
      "outputs": [
        {
          "output_type": "execute_result",
          "data": {
            "text/plain": [
              "array([0.69354839, 0.67741935, 0.69354839, 0.72580645, 0.70967742,\n",
              "       0.70967742, 0.69354839, 0.72580645, 0.72580645, 0.72580645])"
            ]
          },
          "metadata": {},
          "execution_count": 45
        }
      ]
    },
    {
      "cell_type": "code",
      "metadata": {
        "colab": {
          "base_uri": "https://localhost:8080/",
          "height": 297
        },
        "id": "rF6-JVllbttF",
        "outputId": "d8cdf7da-30ca-4e1c-a03e-cda0a8113b4e"
      },
      "source": [
        "plt.plot(range(1,Ks+1),mean_acc,'g')\n",
        "\n",
        "plt.legend(('Accuracy '))\n",
        "plt.ylabel('Accuracy ')\n",
        "plt.xlabel('Number of Nabors (K)')\n",
        "plt.tight_layout()\n",
        "plt.show()"
      ],
      "execution_count": null,
      "outputs": [
        {
          "output_type": "display_data",
          "data": {
            "image/png": "[encoded data removed]",
            "text/plain": [
              "<Figure size 432x288 with 1 Axes>"
            ]
          },
          "metadata": {
            "needs_background": "light"
          }
        }
      ]
    },
    {
      "cell_type": "code",
      "metadata": {
        "colab": {
          "base_uri": "https://localhost:8080/"
        },
        "id": "3f0NSETEb1Id",
        "outputId": "6496bc47-c036-4335-d6bd-b29ca04254c0"
      },
      "source": [
        "print( \"The best accuracy was with\", mean_acc.max(), \"with k=\", mean_acc.argmax()+1)"
      ],
      "execution_count": null,
      "outputs": [
        {
          "output_type": "stream",
          "name": "stdout",
          "text": [
            "The best accuracy was with 0.7258064516129032 with k= 4\n"
          ]
        }
      ]
    }
  ]
}